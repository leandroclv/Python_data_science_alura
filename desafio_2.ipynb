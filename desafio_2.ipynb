{
 "cells": [
  {
   "cell_type": "code",
   "execution_count": null,
   "id": "ad5fe63a",
   "metadata": {},
   "outputs": [],
   "source": [
    "#1) Escreva um programa que peça à pessoa usuária para fornecer dois números e exibir o número maior.\n",
    "number1 = int(input('Digite um número: '))\n",
    "number2 = int(input('Digite o segundo número: '))\n",
    "if number1 > number2:\n",
    "    print(f'O número {number1} é o maior')\n",
    "elif number1 < number2:\n",
    "    print(f'O número {number2} é o maior')\n",
    "else:\n",
    "    print('Os números são iguais')"
   ]
  },
  {
   "cell_type": "code",
   "execution_count": null,
   "id": "fdfe210e",
   "metadata": {},
   "outputs": [],
   "source": [
    "#2) Escreva um programa que solicite o percentual de crescimento de produção de uma empresa e informe se houve um crescimento (porcentagem positiva) ou decrescimento (porcentagem negativa).\n",
    "\n",
    "porcent_empresa = float(input('Informe o percentual de crescimento da empresa: '))\n",
    "if porcent_empresa > 0:\n",
    "    print('Crescimento')\n",
    "elif porcent_empresa < 0:\n",
    "    print('Decrescimento')\n",
    "else:\n",
    "    print('Não houve crescimento ou decrescimento')"
   ]
  },
  {
   "cell_type": "code",
   "execution_count": 2,
   "id": "e82c4fbd",
   "metadata": {},
   "outputs": [
    {
     "name": "stdout",
     "output_type": "stream",
     "text": [
      "A letra é uma vogal\n"
     ]
    }
   ],
   "source": [
    "#3) Escreva um programa que determine se uma letra fornecida pela pessoa usuária é uma vogal ou consoante.\n",
    "\n",
    "letra = input('Digite uma letra: ').lower()\n",
    "if letra in ['a', 'e', 'i', 'o', 'u']:\n",
    "    print('A letra é uma vogal')\n",
    "else:\n",
    "    print('A letra é uma consoante')"
   ]
  },
  {
   "cell_type": "code",
   "execution_count": 3,
   "id": "7fc3ab4b",
   "metadata": {},
   "outputs": [
    {
     "name": "stdout",
     "output_type": "stream",
     "text": [
      "8 é o maior valor\n",
      "3 é o menor valor\n"
     ]
    }
   ],
   "source": [
    "#4) Escreva um programa que leia valores médios de preços de um modelo de carro por 3 anos consecutivos e exiba o valor mais alto e mais baixo entre esses três anos.\n",
    "\n",
    "valor1 = int(input('Digite a média do valor no 1° ano: '))\n",
    "valor2 = int(input('Digite a média do valor no 2° ano: '))\n",
    "valor3 = int(input('Digite a média do valor no 3° ano: '))\n",
    "\n",
    "if (valor1 > valor2) and (valor1 > valor3):\n",
    "    print(f'{valor1} é o valor mais alto')\n",
    "elif (valor2 > valor1) and (valor2 > valor3):\n",
    "    print(f'{valor2} é o maior valor')\n",
    "else:\n",
    "    print(f'{valor3} é o maior valor')\n",
    "\n",
    "if (valor1 < valor2) and (valor1 < valor3):\n",
    "    print(f'{valor1} é o valor mais baixo')\n",
    "elif (valor2 < valor1) and (valor2 < valor3):\n",
    "    print(f'{valor2} é o menor valor')\n",
    "else:\n",
    "    print(f'{valor3} é o menor valor')"
   ]
  },
  {
   "cell_type": "code",
   "execution_count": null,
   "id": "3675ab2c",
   "metadata": {},
   "outputs": [
    {
     "name": "stdout",
     "output_type": "stream",
     "text": [
      "12.0 é o valor mais barato\n"
     ]
    }
   ],
   "source": [
    "#5) Escreva um programa que pergunte sobre o preço de três produtos e indique qual é o produto mais barato para comprar.\n",
    "\n",
    "valor_prod1 = float(input('Digite o preço do 1° produto: '))\n",
    "valor_prod2 = float(input('Digite o preço do 2° produto: '))\n",
    "valor_prod3 = float(input('Digite o preço do 3° produto: '))\n",
    "\n",
    "if (valor_prod1 < valor_prod2) and (valor_prod1 < valor_prod3):\n",
    "    print(f'R$ {valor_prod1:.2f} é o valor mais barato')\n",
    "elif (valor_prod2 < valor_prod1) and (valor_prod2 < valor_prod3):\n",
    "    print(f'R$ {valor_prod2:.2f} é o valor mais barato')\n",
    "else:\n",
    "    print(f'R$ {valor_prod3:.2f} é o valor mais barato')"
   ]
  },
  {
   "cell_type": "code",
   "execution_count": null,
   "id": "74a97908",
   "metadata": {},
   "outputs": [],
   "source": [
    "#6) Escreva um programa que leia três números e os exiba em ordem decrescente.\n",
    "n1 = int(input('Digiite o primeiro número: '))\n",
    "n2 = int(input('Digiite o segundo número: '))\n",
    "n3 = int(input('Digiite o terceiro número: '))\n",
    "\n",
    "if (n1 >= n2) and (n1 >= n3):\n",
    "    print(n1)\n",
    "    if n2 >= n3:\n",
    "        print(n2)\n",
    "        print(n3)\n",
    "    else:\n",
    "        print(n3)\n",
    "        print(n2)\n",
    "if (n2 >= n1) and (n2 >= n3):\n",
    "    print(n2)\n",
    "    if n1 >= n3:\n",
    "        print(n1)\n",
    "        print(n3)\n",
    "    else:\n",
    "        print(n3)\n",
    "        print(n1)\n",
    "else:\n",
    "    print(n3)\n",
    "    if n1 >= n2:\n",
    "        print(n1)\n",
    "        print(n2)\n",
    "    else:\n",
    "        print(n2)\n",
    "        print(n1)"
   ]
  },
  {
   "cell_type": "code",
   "execution_count": 4,
   "id": "28bc131a",
   "metadata": {},
   "outputs": [
    {
     "name": "stdout",
     "output_type": "stream",
     "text": [
      "Valor inválido\n"
     ]
    }
   ],
   "source": [
    "#7) Escreva um programa que pergunte em qual turno a pessoa usuária estuda (\"manhã\", \"tarde\" ou \"noite\") e exiba a mensagem \"Bom Dia!\", \"Boa Tarde!\", \"Boa Noite!\", ou \"Valor Inválido!\", conforme o caso.\n",
    "\n",
    "turno = input('Digite o turno que você estuda? (manhã, tarde, noite)').lower()\n",
    "if turno == 'manhã':\n",
    "    print('Bom dia')\n",
    "elif turno == 'tarde':\n",
    "    print('Boa tarde')\n",
    "elif turno == 'noite':\n",
    "    print('Boa noite')\n",
    "else:\n",
    "    print('Valor inválido')"
   ]
  },
  {
   "cell_type": "code",
   "execution_count": null,
   "id": "b29b9124",
   "metadata": {},
   "outputs": [
    {
     "name": "stdout",
     "output_type": "stream",
     "text": [
      "Este número é par\n"
     ]
    }
   ],
   "source": [
    "#8) Escreva um programa que peça um número inteiro à pessoa usuária e determine se ele é par ou ímpar. Dica: Você pode utilizar o operador módulo %.\n",
    "number = int(input('Digite um número inteiro: '))\n",
    "if number % 2 == 0:\n",
    "    print('Este número é par')\n",
    "else:\n",
    "    print('Este número')"
   ]
  },
  {
   "cell_type": "code",
   "execution_count": 9,
   "id": "1e929065",
   "metadata": {},
   "outputs": [
    {
     "name": "stdout",
     "output_type": "stream",
     "text": [
      "Este número é decimal\n"
     ]
    }
   ],
   "source": [
    "#9) Escreva um programa que peça um número à pessoa usuária e informe se ele é inteiro ou decimal.\n",
    "#Momento dos projetos\n",
    "num = float(input('Digite um número:'))\n",
    "if num % 1 == 0:\n",
    "    print('Este número é inteiro')\n",
    "else:\n",
    "    print('Este número é decimal')"
   ]
  },
  {
   "cell_type": "code",
   "execution_count": null,
   "id": "c32ade7e",
   "metadata": {},
   "outputs": [
    {
     "name": "stdout",
     "output_type": "stream",
     "text": [
      "A divisão dos números é: 2.50. Este número é ímpar, positivo e decimal.\n"
     ]
    }
   ],
   "source": [
    "#10) Um programa deve ser escrito para ler dois números e, em seguida, perguntar à pessoa usuária qual operação ele deseja realizar. O resultado da operação deve incluir informações sobre o número - se é par ou ímpar, positivo ou negativo e inteiro ou decimal.\n",
    "numb1 = float(input('Digite um número: '))\n",
    "numb2 = float(input('Digite outro número: '))\n",
    "oper = int(input('Digite a operação desejada: (1 - soma| 2- subtração| 3 - multiplicação| 4 - divisão)'))\n",
    "\n",
    "if oper == 1:\n",
    "    soma = numb1 + numb2\n",
    "    if soma % 2 == 0:\n",
    "        par_imp = 'par'\n",
    "    else:\n",
    "        par_imp = 'ímpar'\n",
    "        \n",
    "    if soma > 0:\n",
    "        pos_neg = 'positivo'\n",
    "    else:\n",
    "        pos_neg = 'negativo'\n",
    "        \n",
    "    if soma % 1 == 0:\n",
    "        int_dec = 'inteiro'\n",
    "    else:\n",
    "        int_dec = 'decimal'\n",
    "    print(f'A soma dos números é: {soma}. Este número é {par_imp}, {pos_neg} e {int_dec}.')\n",
    "elif oper == 2:\n",
    "    sub = numb1 - numb2\n",
    "    if sub % 2 == 0:\n",
    "        par_imp = 'par'\n",
    "    else:\n",
    "        par_imp = 'ímpar'\n",
    "        \n",
    "    if sub > 0:\n",
    "        pos_neg = 'positivo'\n",
    "    else:\n",
    "        pos_neg = 'negativo'\n",
    "        \n",
    "    if sub % 1 == 0:\n",
    "        int_dec = 'inteiro'\n",
    "    else:\n",
    "        int_dec = 'decimal'\n",
    "    print(f'A subtração dos números é: {sub}. Este número é {par_imp}, {pos_neg} e {int_dec}.')\n",
    "elif oper == 3:\n",
    "    mult = numb1 * numb2\n",
    "    if mult % 2 == 0:\n",
    "        par_imp = 'par'\n",
    "    else:\n",
    "        par_imp = 'ímpar'\n",
    "        \n",
    "    if mult > 0:\n",
    "        pos_neg = 'positivo'\n",
    "    else:\n",
    "        pos_neg = 'negativo'\n",
    "        \n",
    "    if mult % 1 == 0:\n",
    "        int_dec = 'inteiro'\n",
    "    else:\n",
    "        int_dec = 'decimal'\n",
    "    print(f'A multiplicação dos números é: {mult}. Este número é {par_imp}, {pos_neg} e {int_dec}.')\n",
    "elif oper == 4:\n",
    "    if numb2 == 0:\n",
    "        print('Está operação não pode ser realizada, pois o denominador não pode se 0')\n",
    "    div = numb1 / numb2\n",
    "    if div % 2 == 0:\n",
    "        par_imp = 'par'\n",
    "    else:\n",
    "        par_imp = 'ímpar'\n",
    "        \n",
    "    if div > 0:\n",
    "        pos_neg = 'positivo'\n",
    "    else:\n",
    "        pos_neg = 'negativo'\n",
    "        \n",
    "    if div % 1 == 0:\n",
    "        int_dec = 'inteiro'\n",
    "    else:\n",
    "        int_dec = 'decimal'\n",
    "    print(f'A divisão dos números é: {div:.1f}. Este número é {par_imp}, {pos_neg} e {int_dec}.')\n",
    "else:\n",
    "    print('Operação inválida')"
   ]
  },
  {
   "cell_type": "code",
   "execution_count": null,
   "id": "d32c4606",
   "metadata": {},
   "outputs": [],
   "source": [
    "#11) Escreva um programa que peça à pessoa usuária três números que representam os lados de um triângulo. O programa deve informar se os valores podem ser utilizados para formar um triângulo e, caso afirmativo, se ele é equilátero, isósceles ou escaleno. Tenha em mente algumas dicas:\n",
    "\n",
    "#    Três lados formam um triângulo quando a soma de quaisquer dois lados for maior que o terceiro;\n",
    "#    Triângulo Equilátero: três lados iguais;\n",
    "#    Triângulo Isósceles: quaisquer dois lados iguais;\n",
    "#    Triângulo Escaleno: três lados diferentes.\n",
    "\n",
    "lado1 = float(input('Digite o comprimento do primeiro lado: '))\n",
    "lado2 = float(input('Digite o comprimento do segundo lado: '))\n",
    "lado3 = float(input('Digite o comprimento do terceiro lado: '))\n",
    "\n",
    "if (lado1 + lado2 > lado3) and (lado2 + lado3 > lado1) and (lado1 + lado3 > lado2):\n",
    "    print('Os valores podem formar um triângulo!')\n",
    "    if (lado1 == lado2) and (lado2 == lado3):\n",
    "        print('O triângulo é equilátero')\n",
    "    elif (lado1 != lado2) and (lado2 != lado3) and (lado1 != lado3):\n",
    "        print('O triângulo é escaleno')\n",
    "    else:\n",
    "        print('O triângulo é isósceles')\n",
    "else:\n",
    "    print('Os valores não podem formar um triângulo!')"
   ]
  },
  {
   "cell_type": "code",
   "execution_count": null,
   "id": "34a08035",
   "metadata": {},
   "outputs": [],
   "source": [
    "#12) Um estabelecimento está vendendo combustíveis com descontos variados. Para o etanol, se a quantidade comprada for até 15 litros, o desconto será de 2% por litro. Caso contrário, será de 4% por litro. Para o diesel, se a quantidade comprada for até 15 litros, o desconto será de 3% por litro. Caso contrário, será de 5% por litro. O preço do litro de diesel é R$ 2,00 e o preço do litro de etanol é R$ 1,70. Escreva um programa que leia a quantidade de litros vendidos e o tipo de combustível (E para etanol e D para diesel) e calcule o valor a ser pago pelo cliente. Tenha em mente algumas dicas:\n",
    "\n",
    "#    O do valor do desconto será a multiplicação entre preço do litro, quantidade de litros e o valor do desconto.\n",
    "#    O valor a ser pago por um cliente será o resultado da multiplicação do preço do litro pela quantidade de litros menos o valor de desconto resultante do cálculo.\n",
    "\n",
    "quant_litros = float(input('Informe a quantidade de litros vendidos: '))\n",
    "tipo_compustivel = input('Informe o tipo de combustível (E - para etanol e D - dísel): ').upper()\n",
    "\n",
    "if tipo_compustivel == 'E':\n",
    "    preco_litro = 1.70\n",
    "    if quant_litros <= 15:\n",
    "        desconto = 0.02\n",
    "    else:\n",
    "        desconto = 0.04\n",
    "        \n",
    "elif tipo_compustivel == 'D':\n",
    "    preco_litro = 2.00\n",
    "    if quant_litros <= 15:\n",
    "        desconto = 0.03\n",
    "    else:\n",
    "        desconto = 0.05\n",
    "else:\n",
    "    print('Entradas inválidas!')\n",
    "    preco_litro = 0\n",
    "    desconto = 0\n",
    "    \n",
    "valor_desconto = preco_litro * quant_litros * desconto\n",
    "valor_pago = preco_litro * quant_litros - valor_desconto\n",
    "\n",
    "print(f'Valor a ser pago pelo cliente: R$ {valor_pago:.2f}')"
   ]
  },
  {
   "cell_type": "code",
   "execution_count": null,
   "id": "6d705728",
   "metadata": {},
   "outputs": [],
   "source": [
    "#13) Em uma empresa de venda de imóveis você precisa criar um código que analise os dados de vendas anuais para ajudar a diretoria na tomada de decisão. O código precisa coletar os dados de quantidade de venda durante os anos de 2022 e 2023 e fazer um cálculo de variação percentual. A partir do valor da variação, deve ser enviada às seguintes sugestões:\n",
    "\n",
    "#    Para variação acima de 20%: bonificação para o time de vendas.\n",
    "#    Para variação entre 2% e 20%: pequena bonificação para time de vendas.\n",
    "#    Para variação entre 2% e -10%: planejamento de políticas de incentivo às vendas.\n",
    "#    Para bonificações abaixo de -10%: corte de gastos.\n",
    "\n",
    "venda_2022 = float(input('Informe a quantidade de vendas em 2022: '))\n",
    "venda_2023 = float(input('Informe a quantidade de vendas em 2023: '))\n",
    "\n",
    "var_percentual = 100 * (venda_2023 - venda_2022) / (venda_2022)\n",
    "\n",
    "if var_percentual >20:\n",
    "    print('Bonificação para o time de vendas.')\n",
    "elif 2 <= var_percentual <= 20:\n",
    "    print('Pequena bonificação para time de vendas.')\n",
    "elif -10 <= var_percentual < 2:\n",
    "    print('Planejamento de políticas de incentivo as vendas.')\n",
    "else:\n",
    "    print('Corte de gastos.')"
   ]
  }
 ],
 "metadata": {
  "kernelspec": {
   "display_name": "base",
   "language": "python",
   "name": "python3"
  },
  "language_info": {
   "codemirror_mode": {
    "name": "ipython",
    "version": 3
   },
   "file_extension": ".py",
   "mimetype": "text/x-python",
   "name": "python",
   "nbconvert_exporter": "python",
   "pygments_lexer": "ipython3",
   "version": "3.13.5"
  }
 },
 "nbformat": 4,
 "nbformat_minor": 5
}
