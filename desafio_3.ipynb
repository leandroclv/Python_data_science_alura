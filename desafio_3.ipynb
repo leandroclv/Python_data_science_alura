{
 "cells": [
  {
   "cell_type": "code",
   "execution_count": null,
   "id": "47e303ce",
   "metadata": {},
   "outputs": [],
   "source": [
    "#1) Escreva um programa que peça dois números inteiros e imprima todos os números inteiros entre eles.fim\n",
    "inicio = int(input('Digite o primeiro número inteiro: '))\n",
    "fim = int(input('Digite o segundo número inteiro: '))\n",
    "\n",
    "if inicio < fim:\n",
    "    for i in range(inicio + 1, fim):\n",
    "        print(i)\n",
    "elif inicio > fim:\n",
    "    for i in range(fim + 1, inicio):\n",
    "        print(i)\n",
    "else:\n",
    "    print('Os números são iguais.')"
   ]
  },
  {
   "cell_type": "code",
   "execution_count": 1,
   "id": "769af87e",
   "metadata": {},
   "outputs": [
    {
     "name": "stdout",
     "output_type": "stream",
     "text": [
      "Irá levar 63 dias para a colônia A ultrapassar a colônia B.\n"
     ]
    }
   ],
   "source": [
    "#2) Escreva um programa para calcular quantos dias levará para a colônia de uma bactéria A ultrapassar ou igualar a colônia de uma bactéria B, com base nas taxas de crescimento de 3% e 1,5% respectivamente. Considere que a colônia A inicia com 4 elementos e a B com 10.\n",
    "\n",
    "colonia_a = 4\n",
    "colonia_b = 10\n",
    "\n",
    "taxa_cresc_a = 0.03\n",
    "taxa_cresc_b = 0.015\n",
    "\n",
    "dias = 0\n",
    "\n",
    "while colonia_a <= colonia_b:\n",
    "    colonia_a *= 1 + taxa_cresc_a\n",
    "    colonia_b *= 1 + taxa_cresc_b\n",
    "    dias +=1\n",
    "    \n",
    "print(f'Irá levar {dias} dias para a colônia A ultrapassar a colônia B.')"
   ]
  },
  {
   "cell_type": "code",
   "execution_count": null,
   "id": "d83bb358",
   "metadata": {},
   "outputs": [],
   "source": [
    "#3) Para tratar uma quantidade de 15 dados de avaliações de pessoas usuárias de um serviço da empresa, precisamos verificar se as notas são válidas. Então, escreva um programa que vai receber a nota de 0 a 5 de todos os dados e verificar se é um valor válido. Caso seja inserido uma nota acima de 5 ou abaixo de 0, repita até que a pessoa usuária insira um valor válido.\n",
    "\n",
    "for i in range(15):\n",
    "    nota = float(input(f'Digite a nota do {i}° usuário: '))\n",
    "    while (nota < 0) or (nota > 5):\n",
    "        nota = float(input(f'Nota inválida, insira novamnete a nota do {i}° usuário: '))\n",
    "        \n",
    "print('Verificação concluída. Todas as notas válidas')"
   ]
  },
  {
   "cell_type": "code",
   "execution_count": null,
   "id": "d90a50b0",
   "metadata": {},
   "outputs": [],
   "source": [
    "#4) Desenvolva um programa que leia um conjunto indeterminado de temperaturas em Celsius e informe a média delas. A leitura deve ser encerrada ao ser enviado o valor -273°C.\n",
    "\n",
    "temp = float(input('Digite a temperatura em Celsius: '))\n",
    "\n",
    "contadora = 0\n",
    "soma = 0\n",
    "\n",
    "while temp != -273:\n",
    "    soma += temp\n",
    "    contadora +=1\n",
    "    temp = (float(input('Digite a temperatura em Celsius: ')))\n",
    "media = soma / contadora\n",
    "\n",
    "print(f'A média das temperaturas é: {media}')"
   ]
  },
  {
   "cell_type": "code",
   "execution_count": null,
   "id": "da42a6b7",
   "metadata": {},
   "outputs": [],
   "source": [
    "#5) Escreva um programa que calcule o fatorial de um número inteiro fornecido pela pessoa usuária. Lembrando que o fatorial de um número inteiro é a multiplicação desse número por todos os seus antecessores até o número 1. Por exemplo, o fatorial de 5 é 5 x 4 x 3 x 2 x 1 = 120. Momento dos projetos\n",
    "\n",
    "num = int(input('Digite o número inteiro: '))\n",
    "fatorial = 1\n",
    "i = num\n",
    "while i > 0:\n",
    "    fatorial *= i\n",
    "    i -= 1\n",
    "    \n",
    "print(f'Fatorial de {num} é {fatorial}')"
   ]
  },
  {
   "cell_type": "code",
   "execution_count": null,
   "id": "50bb7c94",
   "metadata": {},
   "outputs": [],
   "source": [
    "#6) Escreva um programa que gere a tabuada de um número inteiro de 1 a 10, de acordo com a escolha da pessoa usuária. Como exemplo, para o número 2, a tabuada deve ser mostrada no seguinte formato:\n",
    "\n",
    "#Tabuada do 2:\n",
    "#2 x 1 = 2\n",
    "#2 x 2 = 4\n",
    "#[...]\n",
    "#2 x 10 = 20\n",
    "\n",
    "num = int(input('Digite um número inteiro de 1 a 10: '))\n",
    "print(f'Tabuada do {num}:')\n",
    "for i in range(1,11):\n",
    "    resultado = num * i\n",
    "    print(f'{num} x {i} = {resultado}')"
   ]
  },
  {
   "cell_type": "code",
   "execution_count": null,
   "id": "29680018",
   "metadata": {},
   "outputs": [],
   "source": [
    "#7) Os números primos possuem várias aplicações dentro da Ciência de Dados em criptografia e segurança, por exemplo. Um número primo é aquele que é divisível apenas por um e por ele mesmo. Assim, faça um programa que peça um número inteiro e determine se ele é ou não um número primo.\n",
    "\n",
    "number = int(input('Digite um número: '))\n",
    "primo = True\n",
    "if number <= 1:\n",
    "    primo = False\n",
    "else:\n",
    "    for i in range(2,number):\n",
    "        if number % i == 0:\n",
    "            primo = False\n",
    "            break\n",
    "        \n",
    "if primo:\n",
    "    print(f'O número {number} é primo')\n",
    "else:\n",
    "    print(f'O número {number} não é primo')"
   ]
  },
  {
   "cell_type": "code",
   "execution_count": null,
   "id": "a99de1e7",
   "metadata": {},
   "outputs": [],
   "source": [
    "#8) Vamos entender a distribuição de idades de pensionistas de uma empresa de previdência. Escreva um programa que leia as idades de uma quantidade não informada de clientes e mostre a distribuição em intervalos de [0-25], [26-50], [51-75] e [76-100]. Encerre a entrada de dados com um número negativo.\n",
    "\n",
    "age = int(input('Digite a idade (caso queira encerrar, digite um valor negativo): '))\n",
    "\n",
    "cont_0_25 = 0\n",
    "cont_26_50 = 0\n",
    "cont_51_75 = 0\n",
    "cont_76_100 = 0\n",
    "\n",
    "while age >= 0:\n",
    "    if age >= 0 and age <= 25:\n",
    "        cont_0_25 += 1\n",
    "    elif age >= 26 and age <= 50:\n",
    "        cont_26_50 += 1\n",
    "    elif age >= 51 and age <= 75:\n",
    "        cont_51_75 += 1\n",
    "    elif age >= 76 and age <= 100:\n",
    "        cont_76_100 += 1\n",
    "        \n",
    "    age = int(input('Digite a idade(caso queira encerrar, digite um número negativo: )'))\n",
    "    \n",
    "print('Distribuição de idades:')\n",
    "print(f'[0-25]: {cont_0_25}')\n",
    "print(f'[26-50]: {cont_26_50}')\n",
    "print(f'[51-75]: {cont_51_75}')\n",
    "print(f'[76-100]: {cont_76_100}')"
   ]
  },
  {
   "cell_type": "code",
   "execution_count": null,
   "id": "098eab59",
   "metadata": {},
   "outputs": [],
   "source": [
    "#9) Em uma eleição para gerência em uma empresa com 20 pessoas colaboradoras, existem quatro candidatos(as). Escreva um programa que calcule o(a) vencedor(a) da eleição. A votação ocorreu da seguinte maneira:\n",
    "\n",
    "    #Cada colaborador(a) votou em uma das quatro pessoas candidatas (que representamos pelos números 1, 2, 3 e 4).\n",
    "    #Também foram contabilizados os votos nulos (representados pelo número 5) e os votos em branco (representados pelo número 6).\n",
    "\n",
    "#Ao final da votação, o programa deve exibir o número total de votos para cada candidato(a), os nulos e os votos em branco. Além disso, deve calcular e exibir a porcentagem de votos nulos em relação ao total de votos e a porcentagem de votos em branco em relação ao total de votos.\n",
    "\n",
    "votos_canddato1 = 0\n",
    "votos_canddato2 = 0\n",
    "votos_canddato3 = 0\n",
    "votos_canddato4 = 0\n",
    "votos_nulos = 0\n",
    "votos_brancos = 0\n",
    "\n",
    "for i in range(0,20):\n",
    "    voto = int(input('Digite seu voto (candidatos 1-4, votos nulos 5 e votos em branco 6): '))\n",
    "    if voto == 1:\n",
    "        votos_canddato1 += 1\n",
    "    elif voto == 2:\n",
    "        votos_canddato2 += 1\n",
    "    elif voto == 3:\n",
    "        votos_canddato3 += 1\n",
    "    elif voto == 4:\n",
    "        votos_canddato4 += 1\n",
    "    elif voto == 5:\n",
    "        votos_nulos += 1\n",
    "    elif voto == 6:\n",
    "        votos_brancos += 1\n",
    "    else:\n",
    "        print('Voto inválido.')\n",
    "        \n",
    "print(f'Votos do candidato 1: {votos_canddato1}')\n",
    "print(f'Votos do candidato 2: {votos_canddato2}')\n",
    "print(f'Votos do candidato 3: {votos_canddato3}')\n",
    "print(f'Votos do candidato 4: {votos_canddato4}')\n",
    "print(f'Votos nulos: {votos_nulos}')\n",
    "print(f'Votos em brnaco: {votos_brancos}')\n",
    "print(f'Percentual de votos nulos: {(votos_nulos/ 20 * 100)}')\n",
    "print(f'Percentual de votos em branco: {(votos_brancos/ 20 * 100)}')\n"
   ]
  }
 ],
 "metadata": {
  "kernelspec": {
   "display_name": "base",
   "language": "python",
   "name": "python3"
  },
  "language_info": {
   "codemirror_mode": {
    "name": "ipython",
    "version": 3
   },
   "file_extension": ".py",
   "mimetype": "text/x-python",
   "name": "python",
   "nbconvert_exporter": "python",
   "pygments_lexer": "ipython3",
   "version": "3.13.5"
  }
 },
 "nbformat": 4,
 "nbformat_minor": 5
}
