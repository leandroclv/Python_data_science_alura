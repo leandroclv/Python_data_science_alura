{
 "cells": [
  {
   "cell_type": "markdown",
   "id": "22687d56",
   "metadata": {},
   "source": [
    "##Coleta e amostragem de dados"
   ]
  },
  {
   "cell_type": "code",
   "execution_count": 2,
   "id": "5764cc72",
   "metadata": {},
   "outputs": [
    {
     "name": "stdout",
     "output_type": "stream",
     "text": [
      "Olá, Leandro!\n"
     ]
    }
   ],
   "source": [
    "nome = input('Digite seu nome: ').capitalize()\n",
    "print(f'Olá, {nome}!')"
   ]
  },
  {
   "cell_type": "code",
   "execution_count": 3,
   "id": "39c49b92",
   "metadata": {},
   "outputs": [
    {
     "name": "stdout",
     "output_type": "stream",
     "text": [
      "Olá, Leandro, você tem 46 anos.\n"
     ]
    }
   ],
   "source": [
    "idade = int(input('Digite a sua idade: '))\n",
    "print(f'Olá, {nome}, você tem {idade} anos.')"
   ]
  },
  {
   "cell_type": "code",
   "execution_count": 4,
   "id": "989df744",
   "metadata": {},
   "outputs": [
    {
     "name": "stdout",
     "output_type": "stream",
     "text": [
      "Olá, Leandro, você tem 46 anos e mede 1.75 metros!\n"
     ]
    }
   ],
   "source": [
    "altura = float(input('Digite a sua altura em metros: '))\n",
    "print(f'Olá, {nome}, você tem {idade} anos e mede {altura} metros!')"
   ]
  },
  {
   "cell_type": "markdown",
   "id": "697004ec",
   "metadata": {},
   "source": [
    "##Calcauladora com operadores"
   ]
  },
  {
   "cell_type": "code",
   "execution_count": 7,
   "id": "477a80b2",
   "metadata": {},
   "outputs": [
    {
     "name": "stdout",
     "output_type": "stream",
     "text": [
      "A soma dos valores 5.6 e 9.6 é 15.2\n"
     ]
    }
   ],
   "source": [
    "number1 = float(input('Digite um número: '))\n",
    "number2 = float(input('Digite outro número: '))\n",
    "soma = number1 + number2\n",
    "print(f'A soma dos valores {number1} e {number2} é {soma}')"
   ]
  },
  {
   "cell_type": "code",
   "execution_count": null,
   "id": "85cf47c7",
   "metadata": {},
   "outputs": [],
   "source": []
  }
 ],
 "metadata": {
  "kernelspec": {
   "display_name": "base",
   "language": "python",
   "name": "python3"
  },
  "language_info": {
   "codemirror_mode": {
    "name": "ipython",
    "version": 3
   },
   "file_extension": ".py",
   "mimetype": "text/x-python",
   "name": "python",
   "nbconvert_exporter": "python",
   "pygments_lexer": "ipython3",
   "version": "3.13.5"
  }
 },
 "nbformat": 4,
 "nbformat_minor": 5
}
