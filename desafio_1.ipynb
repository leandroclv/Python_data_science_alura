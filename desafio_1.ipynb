{
 "cells": [
  {
   "cell_type": "markdown",
   "id": "22687d56",
   "metadata": {},
   "source": [
    "##Coleta e amostragem de dados"
   ]
  },
  {
   "cell_type": "code",
   "execution_count": 2,
   "id": "5764cc72",
   "metadata": {},
   "outputs": [
    {
     "name": "stdout",
     "output_type": "stream",
     "text": [
      "Olá, Leandro!\n"
     ]
    }
   ],
   "source": [
    "nome = input('Digite seu nome: ').capitalize()\n",
    "print(f'Olá, {nome}!')"
   ]
  },
  {
   "cell_type": "code",
   "execution_count": 3,
   "id": "39c49b92",
   "metadata": {},
   "outputs": [
    {
     "name": "stdout",
     "output_type": "stream",
     "text": [
      "Olá, Leandro, você tem 46 anos.\n"
     ]
    }
   ],
   "source": [
    "idade = int(input('Digite a sua idade: '))\n",
    "print(f'Olá, {nome}, você tem {idade} anos.')"
   ]
  },
  {
   "cell_type": "code",
   "execution_count": 4,
   "id": "989df744",
   "metadata": {},
   "outputs": [
    {
     "name": "stdout",
     "output_type": "stream",
     "text": [
      "Olá, Leandro, você tem 46 anos e mede 1.75 metros!\n"
     ]
    }
   ],
   "source": [
    "altura = float(input('Digite a sua altura em metros: '))\n",
    "print(f'Olá, {nome}, você tem {idade} anos e mede {altura} metros!')"
   ]
  },
  {
   "cell_type": "markdown",
   "id": "697004ec",
   "metadata": {},
   "source": [
    "##Calcauladora com operadores"
   ]
  },
  {
   "cell_type": "code",
   "execution_count": 7,
   "id": "477a80b2",
   "metadata": {},
   "outputs": [
    {
     "name": "stdout",
     "output_type": "stream",
     "text": [
      "A soma dos valores 5.6 e 9.6 é 15.2\n"
     ]
    }
   ],
   "source": [
    "number1 = float(input('Digite um número: '))\n",
    "number2 = float(input('Digite outro número: '))\n",
    "soma = number1 + number2\n",
    "print(f'A soma dos valores {number1} e {number2} é {soma}')"
   ]
  },
  {
   "cell_type": "code",
   "execution_count": 8,
   "id": "85cf47c7",
   "metadata": {},
   "outputs": [
    {
     "name": "stdout",
     "output_type": "stream",
     "text": [
      "A soma dos números 4.0, 6.0 e 7.9 é 17.9\n"
     ]
    }
   ],
   "source": [
    "n1 = float(input('Digite o primeiro número: '))\n",
    "n2 = float(input('Digite o segundo número: '))\n",
    "n3 = float(input('Digite o terceiro número: '))\n",
    "soma = n1 + n2 + n3\n",
    "print(f'A soma dos números {n1}, {n2} e {n3} é {soma}')"
   ]
  },
  {
   "cell_type": "code",
   "execution_count": 9,
   "id": "820bca27",
   "metadata": {},
   "outputs": [
    {
     "name": "stdout",
     "output_type": "stream",
     "text": [
      "A subtração dos números 5 e 2 é -2.0\n"
     ]
    }
   ],
   "source": [
    "nu1 = int(input('Digite um número: '))\n",
    "nu2 = int(input('Digite outor número: '))\n",
    "subtra = n1 - n2\n",
    "print(f'A subtração dos números {nu1} e {nu2} é {subtra}')"
   ]
  },
  {
   "cell_type": "code",
   "execution_count": 10,
   "id": "a5425261",
   "metadata": {},
   "outputs": [
    {
     "name": "stdout",
     "output_type": "stream",
     "text": [
      "A multiplicação dos números 4 vezes 6 é 24\n"
     ]
    }
   ],
   "source": [
    "num1 = int(input('Digite um número: '))\n",
    "num2 = int(input('Digite o segundo número: '))\n",
    "mult = num1 * num2\n",
    "print(f'A multiplicação dos números {num1} vezes {num2} é {mult}')"
   ]
  },
  {
   "cell_type": "code",
   "execution_count": 11,
   "id": "25a29429",
   "metadata": {},
   "outputs": [
    {
     "name": "stdout",
     "output_type": "stream",
     "text": [
      "A divisão dos números 10 e 2 é 5.0\n"
     ]
    }
   ],
   "source": [
    "numero1 = int(input('digite um número: '))\n",
    "numero2 = int(input('Digite o segundo número (não pode ser 0): '))\n",
    "div = numero1/numero2\n",
    "print(f'A divisão dos números {numero1} e {numero2} é {div}')"
   ]
  },
  {
   "cell_type": "code",
   "execution_count": 12,
   "id": "e5c74c17",
   "metadata": {},
   "outputs": [
    {
     "name": "stdout",
     "output_type": "stream",
     "text": [
      "O número 2 na potência 3 tem como resultado 8\n"
     ]
    }
   ],
   "source": [
    "oper = int(input('Digite o número do operador: '))\n",
    "pot = int(input('Digite a potência: '))\n",
    "potencia = oper ** pot\n",
    "print(f'O número {oper} na potência {pot} tem como resultado {potencia}')"
   ]
  },
  {
   "cell_type": "code",
   "execution_count": 13,
   "id": "f116f934",
   "metadata": {},
   "outputs": [
    {
     "name": "stdout",
     "output_type": "stream",
     "text": [
      "A divisão dos números 35 e 2 é 17\n"
     ]
    }
   ],
   "source": [
    "number1 = int(input('digite um número: '))\n",
    "number2 = int(input('Digite o segundo número (não pode ser 0): '))\n",
    "div = number1//number2\n",
    "print(f'A divisão dos números {number1} e {number2} é {div}')"
   ]
  },
  {
   "cell_type": "code",
   "execution_count": 15,
   "id": "452e050f",
   "metadata": {},
   "outputs": [
    {
     "name": "stdout",
     "output_type": "stream",
     "text": [
      "A divisão dos números 33 e 2 é o resto da divisão é 1\n"
     ]
    }
   ],
   "source": [
    "numer1 = int(input('digite um número: '))\n",
    "numer2 = int(input('Digite o segundo número (não pode ser 0): '))\n",
    "div = numer1%numer2\n",
    "print(f'A divisão dos números {numer1} e {numer2} é o resto da divisão é {div}')"
   ]
  },
  {
   "cell_type": "code",
   "execution_count": 16,
   "id": "95110efc",
   "metadata": {},
   "outputs": [
    {
     "name": "stdout",
     "output_type": "stream",
     "text": [
      "A média do aluno foi 6.933333333333334\n"
     ]
    }
   ],
   "source": [
    "nota1 = float(input('Digite a primeira nota do aluno: '))\n",
    "nota2 = float(input('Digite a segunda nota do aluno: '))\n",
    "nota3 = float(input('Digite a terceira nota do aluno: '))\n",
    "media = (nota1 + nota2 + nota3) / 3\n",
    "print(f'A média do aluno foi {media}')"
   ]
  },
  {
   "cell_type": "code",
   "execution_count": 17,
   "id": "baf2e924",
   "metadata": {},
   "outputs": [
    {
     "data": {
      "text/plain": [
       "2.8653846153846154"
      ]
     },
     "execution_count": 17,
     "metadata": {},
     "output_type": "execute_result"
    }
   ],
   "source": [
    "media_ponderada = (5 * 1 + 12 * 2 + 20 * 3 + 15 * 4)/ (5 + 12 + 20 + 15)\n",
    "media_ponderada"
   ]
  },
  {
   "cell_type": "markdown",
   "id": "6aece5ef",
   "metadata": {},
   "source": [
    "##Editando textos"
   ]
  },
  {
   "cell_type": "code",
   "execution_count": 18,
   "id": "c75fa2d3",
   "metadata": {},
   "outputs": [
    {
     "data": {
      "text/plain": [
       "'Bom dia'"
      ]
     },
     "execution_count": 18,
     "metadata": {},
     "output_type": "execute_result"
    }
   ],
   "source": [
    "frase = 'Bom dia'\n",
    "frase"
   ]
  },
  {
   "cell_type": "code",
   "execution_count": 19,
   "id": "39bcaea0",
   "metadata": {},
   "outputs": [
    {
     "name": "stdout",
     "output_type": "stream",
     "text": [
      "boa noite\n"
     ]
    }
   ],
   "source": [
    "frase1 = input('Digite uma frase: ')\n",
    "print(frase1)"
   ]
  },
  {
   "cell_type": "code",
   "execution_count": 20,
   "id": "452c6321",
   "metadata": {},
   "outputs": [
    {
     "data": {
      "text/plain": [
       "'BOM DIA MARAVILHA'"
      ]
     },
     "execution_count": 20,
     "metadata": {},
     "output_type": "execute_result"
    }
   ],
   "source": [
    "frase3 = input('Digite uma frase: ')\n",
    "frase3.upper()"
   ]
  },
  {
   "cell_type": "code",
   "execution_count": 21,
   "id": "5aeed31c",
   "metadata": {},
   "outputs": [
    {
     "data": {
      "text/plain": [
       "'bom dia leandro'"
      ]
     },
     "execution_count": 21,
     "metadata": {},
     "output_type": "execute_result"
    }
   ],
   "source": [
    "frase4 = input('Digite uma frase: ')\n",
    "frase4.lower()"
   ]
  },
  {
   "cell_type": "code",
   "execution_count": 23,
   "id": "88e37656",
   "metadata": {},
   "outputs": [
    {
     "data": {
      "text/plain": [
       "'olá mundo'"
      ]
     },
     "execution_count": 23,
     "metadata": {},
     "output_type": "execute_result"
    }
   ],
   "source": [
    "frase5 = input('Digite uma frase: ')\n",
    "frase5.strip()"
   ]
  },
  {
   "cell_type": "code",
   "execution_count": 25,
   "id": "5ac9e27e",
   "metadata": {},
   "outputs": [
    {
     "data": {
      "text/plain": [
       "'qufm acorda cfdo Dfus ajuda'"
      ]
     },
     "execution_count": 25,
     "metadata": {},
     "output_type": "execute_result"
    }
   ],
   "source": [
    "frase6 = input('Digite uma frase: ')\n",
    "frase6.replace('e', 'f')"
   ]
  },
  {
   "cell_type": "code",
   "execution_count": 26,
   "id": "4a651a6d",
   "metadata": {},
   "outputs": [
    {
     "data": {
      "text/plain": [
       "'quem @cord@ cedo Deus @jud@'"
      ]
     },
     "execution_count": 26,
     "metadata": {},
     "output_type": "execute_result"
    }
   ],
   "source": [
    "frase7 = input('Digite uma frase: ')\n",
    "frase7.replace('a', '@')"
   ]
  },
  {
   "cell_type": "code",
   "execution_count": 27,
   "id": "f966e16f",
   "metadata": {},
   "outputs": [
    {
     "data": {
      "text/plain": [
       "'quem cedo acorda Deu$ ajuda'"
      ]
     },
     "execution_count": 27,
     "metadata": {},
     "output_type": "execute_result"
    }
   ],
   "source": [
    "frase8 = input('Digite uma frase: ')\n",
    "frase8.replace('s', '$')"
   ]
  }
 ],
 "metadata": {
  "kernelspec": {
   "display_name": "base",
   "language": "python",
   "name": "python3"
  },
  "language_info": {
   "codemirror_mode": {
    "name": "ipython",
    "version": 3
   },
   "file_extension": ".py",
   "mimetype": "text/x-python",
   "name": "python",
   "nbconvert_exporter": "python",
   "pygments_lexer": "ipython3",
   "version": "3.13.5"
  }
 },
 "nbformat": 4,
 "nbformat_minor": 5
}
