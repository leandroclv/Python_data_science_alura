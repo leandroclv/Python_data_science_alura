{
 "cells": [
  {
   "cell_type": "markdown",
   "id": "ec4dd104",
   "metadata": {},
   "source": [
    "##Estrutura ou laços de repetição"
   ]
  },
  {
   "cell_type": "markdown",
   "id": "5fb2cc82",
   "metadata": {},
   "source": [
    "####Estrutura capaz de repetir um bloco de comandos quantas vezes forem definidas"
   ]
  },
  {
   "cell_type": "markdown",
   "id": "ff9e56eb",
   "metadata": {},
   "source": [
    "####Laço While"
   ]
  },
  {
   "cell_type": "code",
   "execution_count": null,
   "id": "8b241f80",
   "metadata": {},
   "outputs": [],
   "source": []
  }
 ],
 "metadata": {
  "kernelspec": {
   "display_name": "base",
   "language": "python",
   "name": "python3"
  },
  "language_info": {
   "codemirror_mode": {
    "name": "ipython",
    "version": 3
   },
   "file_extension": ".py",
   "mimetype": "text/x-python",
   "name": "python",
   "nbconvert_exporter": "python",
   "pygments_lexer": "ipython3",
   "version": "3.13.5"
  }
 },
 "nbformat": 4,
 "nbformat_minor": 5
}
