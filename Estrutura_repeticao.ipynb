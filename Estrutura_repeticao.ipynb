{
 "cells": [
  {
   "cell_type": "markdown",
   "id": "ec4dd104",
   "metadata": {},
   "source": [
    "##Estrutura ou laços de repetição"
   ]
  },
  {
   "cell_type": "markdown",
   "id": "5fb2cc82",
   "metadata": {},
   "source": [
    "####Estrutura capaz de repetir um bloco de comandos quantas vezes forem definidas"
   ]
  },
  {
   "cell_type": "markdown",
   "id": "ff9e56eb",
   "metadata": {},
   "source": [
    "####Laço While"
   ]
  },
  {
   "cell_type": "markdown",
   "id": "8b241f80",
   "metadata": {},
   "source": [
    "####Repete o mesmo bloco de código desde que uma condição seja verdadeira"
   ]
  },
  {
   "cell_type": "code",
   "execution_count": 2,
   "id": "606132e7",
   "metadata": {},
   "outputs": [],
   "source": [
    "####while condição:\n",
    "####    bloco de código"
   ]
  },
  {
   "cell_type": "code",
   "execution_count": 4,
   "id": "7ea902d1",
   "metadata": {},
   "outputs": [
    {
     "name": "stdout",
     "output_type": "stream",
     "text": [
      "1 2 3 4 5 6 7 8 9 10 "
     ]
    }
   ],
   "source": [
    "cont = 1\n",
    "while cont <= 10:\n",
    "    print(cont, end=' ')\n",
    "    cont += 1"
   ]
  },
  {
   "cell_type": "code",
   "execution_count": 7,
   "id": "b70087db",
   "metadata": {},
   "outputs": [
    {
     "name": "stdout",
     "output_type": "stream",
     "text": [
      "Média: 5.5\n",
      "Média: 8.0\n",
      "Média: 4.0\n"
     ]
    }
   ],
   "source": [
    "cont = 1\n",
    "while cont <= 3:\n",
    "    nota_1 = float(input('Digite a 1° nota: '))\n",
    "    nota_2 = float(input('Digite a 2° nota: '))\n",
    "    \n",
    "    print(f'Média: {(nota_1 + nota_2)/2}')\n",
    "    cont += 1"
   ]
  },
  {
   "cell_type": "markdown",
   "id": "f642248d",
   "metadata": {},
   "source": [
    "####Laço for"
   ]
  },
  {
   "cell_type": "markdown",
   "id": "3416f378",
   "metadata": {},
   "source": [
    "####Funciona sob iteração de um conjunto de elementos"
   ]
  },
  {
   "cell_type": "code",
   "execution_count": null,
   "id": "80129988",
   "metadata": {},
   "outputs": [],
   "source": [
    "#for elemento in conjunto\n",
    "    #código a ser executado para cada elemento"
   ]
  },
  {
   "cell_type": "code",
   "execution_count": 3,
   "id": "86b46e2b",
   "metadata": {},
   "outputs": [],
   "source": [
    "#range(inicio, fim, passo)"
   ]
  },
  {
   "cell_type": "code",
   "execution_count": 4,
   "id": "e348a476",
   "metadata": {},
   "outputs": [
    {
     "name": "stdout",
     "output_type": "stream",
     "text": [
      "1 2 3 4 5 6 7 8 9 10 "
     ]
    }
   ],
   "source": [
    "for cont in range(1,11):     #range cria o último elemento menos 1\n",
    "    print(cont, end=' ')\n"
   ]
  },
  {
   "cell_type": "code",
   "execution_count": 5,
   "id": "297ab2b9",
   "metadata": {},
   "outputs": [
    {
     "name": "stdout",
     "output_type": "stream",
     "text": [
      "Média: 4.5\n",
      "Média: 8.0\n",
      "Média: 6.5\n"
     ]
    }
   ],
   "source": [
    "for cont in range(1,4):\n",
    "    nota_1 = float(input('Digite a 1° nota: '))\n",
    "    nota_2 = float(input('Digite a 2° nota: '))\n",
    "    \n",
    "    print(f'Média: {(nota_1 + nota_2)/2}')"
   ]
  },
  {
   "cell_type": "code",
   "execution_count": 6,
   "id": "2846fd5f",
   "metadata": {},
   "outputs": [
    {
     "name": "stdout",
     "output_type": "stream",
     "text": [
      "1\n",
      "2\n",
      "3\n",
      "5\n"
     ]
    }
   ],
   "source": [
    "#O 'continue' interrompe a iteração atual do laço e salta para a próxima, ou seja, retorna ao início do código.\n",
    "for i in range(1,6):\n",
    "    if i == 4:\n",
    "        continue\n",
    "    print(i)"
   ]
  },
  {
   "cell_type": "code",
   "execution_count": 7,
   "id": "1b000dcc",
   "metadata": {},
   "outputs": [
    {
     "name": "stdout",
     "output_type": "stream",
     "text": [
      "1\n",
      "2\n",
      "3\n"
     ]
    }
   ],
   "source": [
    "#O 'break' interrompe a eexecução do laço completamente, saindo do bloco de código.\n",
    "for i in range(1,6):\n",
    "    if i == 4:\n",
    "        break\n",
    "    print(i)"
   ]
  },
  {
   "cell_type": "markdown",
   "id": "8e20627c",
   "metadata": {},
   "source": [
    "####Em resumo, o 'continue' permite pular uma iteração específica do laço, enquanto o 'break' permite finalizar o laço e continuar a execução dos comendos fora dele."
   ]
  }
 ],
 "metadata": {
  "kernelspec": {
   "display_name": "base",
   "language": "python",
   "name": "python3"
  },
  "language_info": {
   "codemirror_mode": {
    "name": "ipython",
    "version": 3
   },
   "file_extension": ".py",
   "mimetype": "text/x-python",
   "name": "python",
   "nbconvert_exporter": "python",
   "pygments_lexer": "ipython3",
   "version": "3.13.5"
  }
 },
 "nbformat": 4,
 "nbformat_minor": 5
}
