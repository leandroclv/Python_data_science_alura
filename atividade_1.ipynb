{
 "cells": [
  {
   "cell_type": "code",
   "execution_count": 1,
   "id": "0a28f362",
   "metadata": {},
   "outputs": [
    {
     "name": "stdout",
     "output_type": "stream",
     "text": [
      "Escola de Dados da Alura\n"
     ]
    }
   ],
   "source": [
    "print('Escola de Dados da Alura')"
   ]
  },
  {
   "cell_type": "code",
   "execution_count": 2,
   "id": "6edc773b",
   "metadata": {},
   "outputs": [
    {
     "name": "stdout",
     "output_type": "stream",
     "text": [
      "Nome: Leandro\n",
      "Sobrenome: Costa Lima Verde\n"
     ]
    }
   ],
   "source": [
    "print('Nome: Leandro')\n",
    "print('Sobrenome: Costa Lima Verde')"
   ]
  },
  {
   "cell_type": "code",
   "execution_count": 3,
   "id": "2cec238f",
   "metadata": {},
   "outputs": [
    {
     "name": "stdout",
     "output_type": "stream",
     "text": [
      "L\n",
      "e\n",
      "a\n",
      "n\n",
      "d\n",
      "r\n",
      "o\n"
     ]
    }
   ],
   "source": [
    "print('L')\n",
    "print('e')\n",
    "print('a')\n",
    "print('n')\n",
    "print('d')\n",
    "print('r')\n",
    "print('o')"
   ]
  },
  {
   "cell_type": "code",
   "execution_count": 4,
   "id": "e78a8e75",
   "metadata": {},
   "outputs": [
    {
     "name": "stdout",
     "output_type": "stream",
     "text": [
      "15 agosto 1979\n"
     ]
    }
   ],
   "source": [
    "print(15, 'agosto', 1979)"
   ]
  },
  {
   "cell_type": "code",
   "execution_count": 6,
   "id": "90bf3947",
   "metadata": {},
   "outputs": [
    {
     "name": "stdout",
     "output_type": "stream",
     "text": [
      "Ano atual: 2025\n"
     ]
    }
   ],
   "source": [
    "print('Ano atual:', 2025)"
   ]
  },
  {
   "cell_type": "code",
   "execution_count": null,
   "id": "526829be",
   "metadata": {},
   "outputs": [],
   "source": []
  }
 ],
 "metadata": {
  "kernelspec": {
   "display_name": "base",
   "language": "python",
   "name": "python3"
  },
  "language_info": {
   "codemirror_mode": {
    "name": "ipython",
    "version": 3
   },
   "file_extension": ".py",
   "mimetype": "text/x-python",
   "name": "python",
   "nbconvert_exporter": "python",
   "pygments_lexer": "ipython3",
   "version": "3.13.5"
  }
 },
 "nbformat": 4,
 "nbformat_minor": 5
}
