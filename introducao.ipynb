{
 "cells": [
  {
   "cell_type": "markdown",
   "id": "52a72a89",
   "metadata": {},
   "source": [
    "###Introdução com a função print()"
   ]
  },
  {
   "cell_type": "code",
   "execution_count": 2,
   "id": "7d1fe562",
   "metadata": {},
   "outputs": [
    {
     "name": "stdout",
     "output_type": "stream",
     "text": [
      "Olá Mundo!\n"
     ]
    }
   ],
   "source": [
    "print('Olá Mundo!')"
   ]
  },
  {
   "cell_type": "code",
   "execution_count": 3,
   "id": "c3dd321b",
   "metadata": {},
   "outputs": [
    {
     "name": "stdout",
     "output_type": "stream",
     "text": [
      "10\n"
     ]
    }
   ],
   "source": [
    "print(10)"
   ]
  },
  {
   "cell_type": "code",
   "execution_count": 5,
   "id": "bbea32bf",
   "metadata": {},
   "outputs": [
    {
     "name": "stdout",
     "output_type": "stream",
     "text": [
      "Leandro 46\n"
     ]
    }
   ],
   "source": [
    "print('Leandro', 46)"
   ]
  },
  {
   "cell_type": "markdown",
   "id": "e0b2448b",
   "metadata": {},
   "source": [
    "###Variáveis"
   ]
  },
  {
   "cell_type": "markdown",
   "id": "2a9e5451",
   "metadata": {},
   "source": []
  },
  {
   "cell_type": "code",
   "execution_count": 1,
   "id": "21e1ce30",
   "metadata": {},
   "outputs": [
    {
     "name": "stdout",
     "output_type": "stream",
     "text": [
      "5\n"
     ]
    }
   ],
   "source": [
    "idade = 5\n",
    "print(idade)"
   ]
  },
  {
   "cell_type": "code",
   "execution_count": 2,
   "id": "baf9e0b1",
   "metadata": {},
   "outputs": [
    {
     "name": "stdout",
     "output_type": "stream",
     "text": [
      "10\n"
     ]
    }
   ],
   "source": [
    "idade = 10\n",
    "print(idade)"
   ]
  },
  {
   "cell_type": "code",
   "execution_count": 3,
   "id": "c3ed4862",
   "metadata": {},
   "outputs": [
    {
     "data": {
      "text/plain": [
       "15"
      ]
     },
     "execution_count": 3,
     "metadata": {},
     "output_type": "execute_result"
    }
   ],
   "source": [
    "idade = 15\n",
    "idade"
   ]
  },
  {
   "cell_type": "code",
   "execution_count": 4,
   "id": "803544e1",
   "metadata": {},
   "outputs": [
    {
     "data": {
      "text/plain": [
       "'Gabriel'"
      ]
     },
     "execution_count": 4,
     "metadata": {},
     "output_type": "execute_result"
    }
   ],
   "source": [
    "nome = 'Gabriel'\n",
    "nome"
   ]
  },
  {
   "cell_type": "markdown",
   "id": "37d4f002",
   "metadata": {},
   "source": [
    "####Nomes que não podemos definir para variáveis:\n",
    "#####-Nomes que começam com números\n",
    "#####-Palavras separadas por espaço\n",
    "#####-Nomes de funções do Python (ex. print, type, etc)"
   ]
  },
  {
   "cell_type": "markdown",
   "id": "54eca8d2",
   "metadata": {},
   "source": [
    "###Tipos de variáveis\n",
    "####-int -> inteiros -> 3, 100 ou -5\n",
    "####-float -> números com ponto flutuantes -> 3.14, 100.0 ou -0.5\n",
    "####-str -> strings -> 'Olá', 'Leandro', '4'\n",
    "####-bool -> valores lógicos, booleanos -> True e False"
   ]
  },
  {
   "cell_type": "code",
   "execution_count": 5,
   "id": "63aa24c4",
   "metadata": {},
   "outputs": [
    {
     "data": {
      "text/plain": [
       "int"
      ]
     },
     "execution_count": 5,
     "metadata": {},
     "output_type": "execute_result"
    }
   ],
   "source": [
    "i = 5\n",
    "type(i)"
   ]
  },
  {
   "cell_type": "code",
   "execution_count": 6,
   "id": "6f9577cb",
   "metadata": {},
   "outputs": [
    {
     "data": {
      "text/plain": [
       "float"
      ]
     },
     "execution_count": 6,
     "metadata": {},
     "output_type": "execute_result"
    }
   ],
   "source": [
    "f = 9.8\n",
    "type(f)"
   ]
  },
  {
   "cell_type": "code",
   "execution_count": 7,
   "id": "f0826723",
   "metadata": {},
   "outputs": [
    {
     "data": {
      "text/plain": [
       "str"
      ]
     },
     "execution_count": 7,
     "metadata": {},
     "output_type": "execute_result"
    }
   ],
   "source": [
    "s = 'Leandro'\n",
    "type(s)"
   ]
  },
  {
   "cell_type": "code",
   "execution_count": 8,
   "id": "393e44a8",
   "metadata": {},
   "outputs": [
    {
     "data": {
      "text/plain": [
       "bool"
      ]
     },
     "execution_count": 8,
     "metadata": {},
     "output_type": "execute_result"
    }
   ],
   "source": [
    "b = True\n",
    "type(b)"
   ]
  },
  {
   "cell_type": "code",
   "execution_count": 9,
   "id": "585f8bc2",
   "metadata": {},
   "outputs": [
    {
     "name": "stdout",
     "output_type": "stream",
     "text": [
      "Fabricio Daniel 15 8.45 True\n"
     ]
    }
   ],
   "source": [
    "nome_aluno = 'Fabricio Daniel'\n",
    "idade_aluno = 15\n",
    "media_aluno = 8.45\n",
    "situacao_aprovado = True\n",
    "print(nome_aluno, idade_aluno, media_aluno, situacao_aprovado)"
   ]
  },
  {
   "cell_type": "code",
   "execution_count": null,
   "id": "ba90655a",
   "metadata": {},
   "outputs": [],
   "source": []
  }
 ],
 "metadata": {
  "kernelspec": {
   "display_name": "base",
   "language": "python",
   "name": "python3"
  },
  "language_info": {
   "codemirror_mode": {
    "name": "ipython",
    "version": 3
   },
   "file_extension": ".py",
   "mimetype": "text/x-python",
   "name": "python",
   "nbconvert_exporter": "python",
   "pygments_lexer": "ipython3",
   "version": "3.13.5"
  }
 },
 "nbformat": 4,
 "nbformat_minor": 5
}
