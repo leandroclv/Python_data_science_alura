{
 "cells": [
  {
   "cell_type": "markdown",
   "id": "52a72a89",
   "metadata": {},
   "source": [
    "###Introdução com a função print()"
   ]
  },
  {
   "cell_type": "code",
   "execution_count": null,
   "id": "7d1fe562",
   "metadata": {},
   "outputs": [
    {
     "name": "stdout",
     "output_type": "stream",
     "text": [
      "Olá Mundo!\n"
     ]
    }
   ],
   "source": [
    "print('Olá Mundo!')"
   ]
  },
  {
   "cell_type": "code",
   "execution_count": null,
   "id": "c3dd321b",
   "metadata": {},
   "outputs": [
    {
     "name": "stdout",
     "output_type": "stream",
     "text": [
      "10\n"
     ]
    }
   ],
   "source": [
    "print(10)"
   ]
  },
  {
   "cell_type": "code",
   "execution_count": null,
   "id": "bbea32bf",
   "metadata": {},
   "outputs": [
    {
     "name": "stdout",
     "output_type": "stream",
     "text": [
      "Leandro 46\n"
     ]
    }
   ],
   "source": [
    "print('Leandro', 46)"
   ]
  },
  {
   "cell_type": "markdown",
   "id": "e0b2448b",
   "metadata": {},
   "source": [
    "###Variáveis"
   ]
  },
  {
   "cell_type": "markdown",
   "id": "2a9e5451",
   "metadata": {},
   "source": []
  },
  {
   "cell_type": "code",
   "execution_count": null,
   "id": "21e1ce30",
   "metadata": {},
   "outputs": [
    {
     "name": "stdout",
     "output_type": "stream",
     "text": [
      "5\n"
     ]
    }
   ],
   "source": [
    "idade = 5\n",
    "print(idade)"
   ]
  },
  {
   "cell_type": "code",
   "execution_count": null,
   "id": "baf9e0b1",
   "metadata": {},
   "outputs": [
    {
     "name": "stdout",
     "output_type": "stream",
     "text": [
      "10\n"
     ]
    }
   ],
   "source": [
    "idade = 10\n",
    "print(idade)"
   ]
  },
  {
   "cell_type": "code",
   "execution_count": null,
   "id": "c3ed4862",
   "metadata": {},
   "outputs": [
    {
     "data": {
      "text/plain": [
       "15"
      ]
     },
     "execution_count": 3,
     "metadata": {},
     "output_type": "execute_result"
    }
   ],
   "source": [
    "idade = 15\n",
    "idade"
   ]
  },
  {
   "cell_type": "code",
   "execution_count": null,
   "id": "803544e1",
   "metadata": {},
   "outputs": [
    {
     "data": {
      "text/plain": [
       "'Gabriel'"
      ]
     },
     "execution_count": 4,
     "metadata": {},
     "output_type": "execute_result"
    }
   ],
   "source": [
    "nome = 'Gabriel'\n",
    "nome"
   ]
  },
  {
   "cell_type": "markdown",
   "id": "37d4f002",
   "metadata": {},
   "source": [
    "####Nomes que não podemos definir para variáveis:\n",
    "#####-Nomes que começam com números\n",
    "#####-Palavras separadas por espaço\n",
    "#####-Nomes de funções do Python (ex. print, type, etc)"
   ]
  },
  {
   "cell_type": "markdown",
   "id": "54eca8d2",
   "metadata": {},
   "source": [
    "###Tipos de variáveis\n",
    "####-int -> inteiros -> 3, 100 ou -5\n",
    "####-float -> números com ponto flutuantes -> 3.14, 100.0 ou -0.5\n",
    "####-str -> strings -> 'Olá', 'Leandro', '4'\n",
    "####-bool -> valores lógicos, booleanos -> True e False"
   ]
  },
  {
   "cell_type": "code",
   "execution_count": null,
   "id": "63aa24c4",
   "metadata": {},
   "outputs": [
    {
     "data": {
      "text/plain": [
       "int"
      ]
     },
     "execution_count": 5,
     "metadata": {},
     "output_type": "execute_result"
    }
   ],
   "source": [
    "i = 5\n",
    "type(i)"
   ]
  },
  {
   "cell_type": "code",
   "execution_count": null,
   "id": "6f9577cb",
   "metadata": {},
   "outputs": [
    {
     "data": {
      "text/plain": [
       "float"
      ]
     },
     "execution_count": 6,
     "metadata": {},
     "output_type": "execute_result"
    }
   ],
   "source": [
    "f = 9.8\n",
    "type(f)"
   ]
  },
  {
   "cell_type": "code",
   "execution_count": null,
   "id": "f0826723",
   "metadata": {},
   "outputs": [
    {
     "data": {
      "text/plain": [
       "str"
      ]
     },
     "execution_count": 7,
     "metadata": {},
     "output_type": "execute_result"
    }
   ],
   "source": [
    "s = 'Leandro'\n",
    "type(s)"
   ]
  },
  {
   "cell_type": "code",
   "execution_count": null,
   "id": "393e44a8",
   "metadata": {},
   "outputs": [
    {
     "data": {
      "text/plain": [
       "bool"
      ]
     },
     "execution_count": 8,
     "metadata": {},
     "output_type": "execute_result"
    }
   ],
   "source": [
    "b = True\n",
    "type(b)"
   ]
  },
  {
   "cell_type": "code",
   "execution_count": null,
   "id": "585f8bc2",
   "metadata": {},
   "outputs": [
    {
     "name": "stdout",
     "output_type": "stream",
     "text": [
      "Fabricio Daniel 15 8.45 True\n"
     ]
    }
   ],
   "source": [
    "nome_aluno = 'Fabricio Daniel'\n",
    "idade_aluno = 15\n",
    "media_aluno = 8.45\n",
    "situacao_aprovado = True\n",
    "print(nome_aluno, idade_aluno, media_aluno, situacao_aprovado)"
   ]
  },
  {
   "cell_type": "markdown",
   "id": "ba90655a",
   "metadata": {},
   "source": [
    "###Variáveis numéricas"
   ]
  },
  {
   "cell_type": "code",
   "execution_count": 2,
   "id": "5a070c95",
   "metadata": {},
   "outputs": [],
   "source": [
    "quant_seguranca = 5\n",
    "salar_seguranca = 3000\n",
    "\n",
    "quant_docente = 16\n",
    "salar_docente = 6000\n",
    "\n",
    "qaunt_diretoria = 1\n",
    "salar_diretoria = 12500"
   ]
  },
  {
   "cell_type": "code",
   "execution_count": 3,
   "id": "5948f775",
   "metadata": {},
   "outputs": [
    {
     "data": {
      "text/plain": [
       "22"
      ]
     },
     "execution_count": 3,
     "metadata": {},
     "output_type": "execute_result"
    }
   ],
   "source": [
    "quant_empregados = quant_seguranca + quant_docente + qaunt_diretoria\n",
    "quant_empregados"
   ]
  },
  {
   "cell_type": "code",
   "execution_count": 4,
   "id": "af67a294",
   "metadata": {},
   "outputs": [
    {
     "data": {
      "text/plain": [
       "9500"
      ]
     },
     "execution_count": 4,
     "metadata": {},
     "output_type": "execute_result"
    }
   ],
   "source": [
    "diferenca_salario = salar_diretoria - salar_seguranca\n",
    "diferenca_salario"
   ]
  },
  {
   "cell_type": "code",
   "execution_count": 5,
   "id": "167cff1e",
   "metadata": {},
   "outputs": [
    {
     "data": {
      "text/plain": [
       "5613.636363636364"
      ]
     },
     "execution_count": 5,
     "metadata": {},
     "output_type": "execute_result"
    }
   ],
   "source": [
    "media_ponderada = (quant_seguranca * salar_seguranca + quant_docente * salar_docente + qaunt_diretoria * salar_diretoria)/(quant_empregados)\n",
    "media_ponderada"
   ]
  },
  {
   "cell_type": "markdown",
   "id": "ebd82722",
   "metadata": {},
   "source": [
    "###Strings"
   ]
  },
  {
   "cell_type": "code",
   "execution_count": 2,
   "id": "f3dd456d",
   "metadata": {},
   "outputs": [
    {
     "name": "stdout",
     "output_type": "stream",
     "text": [
      "<class 'str'> <class 'str'>\n"
     ]
    }
   ],
   "source": [
    "s1 = 'Alura'\n",
    "s2 = \"Alura\"\n",
    "print(type(s1), type(s2))"
   ]
  },
  {
   "cell_type": "code",
   "execution_count": null,
   "id": "09dbf04d",
   "metadata": {},
   "outputs": [],
   "source": [
    "#Métodos são funções que são associados a objetos no Python\n",
    "#objeto.metodo() -> s1.upper() deixa todas as letras em maiúsculo"
   ]
  },
  {
   "cell_type": "code",
   "execution_count": 4,
   "id": "96b9399c",
   "metadata": {},
   "outputs": [],
   "source": [
    "texto = '  Geovana Alessandra dias Sanyos  '"
   ]
  },
  {
   "cell_type": "code",
   "execution_count": null,
   "id": "7bd5720d",
   "metadata": {},
   "outputs": [
    {
     "data": {
      "text/plain": [
       "'  GEOVANA ALESSANDRA DIAS SANYOS  '"
      ]
     },
     "execution_count": 5,
     "metadata": {},
     "output_type": "execute_result"
    }
   ],
   "source": [
    "nome_maiuscula = texto.upper()\n",
    "nome"
   ]
  },
  {
   "cell_type": "code",
   "execution_count": 6,
   "id": "71e66fbd",
   "metadata": {},
   "outputs": [
    {
     "data": {
      "text/plain": [
       "'  geovana alessandra dias sanyos  '"
      ]
     },
     "execution_count": 6,
     "metadata": {},
     "output_type": "execute_result"
    }
   ],
   "source": [
    "nome_minuscula = texto.lower()\n",
    "nome_minuscula"
   ]
  },
  {
   "cell_type": "code",
   "execution_count": 7,
   "id": "30977ebe",
   "metadata": {},
   "outputs": [
    {
     "data": {
      "text/plain": [
       "'Geovana Alessandra dias Sanyos'"
      ]
     },
     "execution_count": 7,
     "metadata": {},
     "output_type": "execute_result"
    }
   ],
   "source": [
    "nome_sem_espaço = texto.strip()\n",
    "nome_sem_espaço"
   ]
  },
  {
   "cell_type": "code",
   "execution_count": null,
   "id": "0f446568",
   "metadata": {},
   "outputs": [
    {
     "data": {
      "text/plain": [
       "'  geovana alessandra dias santos  '"
      ]
     },
     "execution_count": 14,
     "metadata": {},
     "output_type": "execute_result"
    }
   ],
   "source": [
    "nome_troca = texto.replace('Sanyos', 'Santos')\n",
    "nome_troca"
   ]
  },
  {
   "cell_type": "code",
   "execution_count": 16,
   "id": "c349b45c",
   "metadata": {},
   "outputs": [
    {
     "data": {
      "text/plain": [
       "'GEOVANA ALESSANDRA DIAS SANTOS'"
      ]
     },
     "execution_count": 16,
     "metadata": {},
     "output_type": "execute_result"
    }
   ],
   "source": [
    "nome_tratado = nome_troca.strip().upper()\n",
    "nome_tratado"
   ]
  },
  {
   "cell_type": "markdown",
   "id": "fd76e322",
   "metadata": {},
   "source": [
    "###Coletando dados"
   ]
  },
  {
   "cell_type": "code",
   "execution_count": 17,
   "id": "f63b6212",
   "metadata": {},
   "outputs": [
    {
     "data": {
      "text/plain": [
       "'Leandro'"
      ]
     },
     "execution_count": 17,
     "metadata": {},
     "output_type": "execute_result"
    }
   ],
   "source": [
    "nome = input('Escreva seu nome: ')\n",
    "nome"
   ]
  },
  {
   "cell_type": "markdown",
   "id": "9d00d211",
   "metadata": {},
   "source": [
    "###Conversão de valores\n",
    "####-Inteiros: int(dados para conversão)\n",
    "####-Float: float(dados para conversão)\n",
    "####-String: str(dados para conversão)\n",
    "####-Booleano: bool(dados para conversão)"
   ]
  },
  {
   "cell_type": "code",
   "execution_count": 20,
   "id": "4a235ebc",
   "metadata": {},
   "outputs": [
    {
     "name": "stdout",
     "output_type": "stream",
     "text": [
      "<class 'str'>\n",
      "<class 'int'>\n"
     ]
    }
   ],
   "source": [
    "ano_entrada = input('Escreva o ano de ingresso do(a) estudante: ')\n",
    "print(type(ano_entrada))\n",
    "print(type(int(ano_entrada)))\n"
   ]
  },
  {
   "cell_type": "code",
   "execution_count": 21,
   "id": "9c54f2c6",
   "metadata": {},
   "outputs": [
    {
     "name": "stdout",
     "output_type": "stream",
     "text": [
      "8.9\n",
      "<class 'float'>\n"
     ]
    }
   ],
   "source": [
    "nota_entrada = float(input('Digite a nota do teste de ingresso: '))\n",
    "print(nota_entrada)\n",
    "print(type(nota_entrada))"
   ]
  },
  {
   "cell_type": "code",
   "execution_count": 22,
   "id": "a594d0e4",
   "metadata": {},
   "outputs": [
    {
     "name": "stdout",
     "output_type": "stream",
     "text": [
      "O aluno Leandro ingressou no ano de 2025 com a nota 8.9!\n"
     ]
    }
   ],
   "source": [
    "print(f'O aluno {nome} ingressou no ano de {ano_entrada} com a nota {nota_entrada}!') "
   ]
  },
  {
   "cell_type": "code",
   "execution_count": null,
   "id": "22745798",
   "metadata": {},
   "outputs": [],
   "source": []
  }
 ],
 "metadata": {
  "kernelspec": {
   "display_name": "base",
   "language": "python",
   "name": "python3"
  },
  "language_info": {
   "codemirror_mode": {
    "name": "ipython",
    "version": 3
   },
   "file_extension": ".py",
   "mimetype": "text/x-python",
   "name": "python",
   "nbconvert_exporter": "python",
   "pygments_lexer": "ipython3",
   "version": "3.13.5"
  }
 },
 "nbformat": 4,
 "nbformat_minor": 5
}
