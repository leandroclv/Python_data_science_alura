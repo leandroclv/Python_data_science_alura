{
 "cells": [
  {
   "cell_type": "markdown",
   "id": "c72143b5",
   "metadata": {},
   "source": [
    "###Bibliotecas"
   ]
  },
  {
   "cell_type": "markdown",
   "id": "26b63708",
   "metadata": {},
   "source": [
    "####-> Conjunto de módulos e feunções úteis para a pessoa usuária"
   ]
  },
  {
   "cell_type": "code",
   "execution_count": 2,
   "id": "b3883bea",
   "metadata": {},
   "outputs": [],
   "source": [
    "import matplotlib"
   ]
  },
  {
   "cell_type": "code",
   "execution_count": 3,
   "id": "64100adb",
   "metadata": {},
   "outputs": [
    {
     "data": {
      "text/plain": [
       "'3.10.0'"
      ]
     },
     "execution_count": 3,
     "metadata": {},
     "output_type": "execute_result"
    }
   ],
   "source": [
    "matplotlib.__version__"
   ]
  },
  {
   "cell_type": "code",
   "execution_count": 4,
   "id": "d8eb3bb2",
   "metadata": {},
   "outputs": [],
   "source": [
    "import pandas as pd"
   ]
  },
  {
   "cell_type": "code",
   "execution_count": 5,
   "id": "0c41df58",
   "metadata": {},
   "outputs": [],
   "source": [
    "import matplotlib.pyplot as plt"
   ]
  },
  {
   "cell_type": "code",
   "execution_count": 6,
   "id": "4af4ed15",
   "metadata": {},
   "outputs": [],
   "source": [
    "plt.show()"
   ]
  },
  {
   "cell_type": "code",
   "execution_count": 7,
   "id": "17ff2aa8",
   "metadata": {},
   "outputs": [],
   "source": [
    "estudantes = ['João', 'Maria', 'José']\n",
    "notas = [8.5,9,6.5]"
   ]
  },
  {
   "cell_type": "code",
   "execution_count": null,
   "id": "1ee9f5f6",
   "metadata": {},
   "outputs": [],
   "source": [
    "plt.bar() "
   ]
  }
 ],
 "metadata": {
  "kernelspec": {
   "display_name": "base",
   "language": "python",
   "name": "python3"
  },
  "language_info": {
   "codemirror_mode": {
    "name": "ipython",
    "version": 3
   },
   "file_extension": ".py",
   "mimetype": "text/x-python",
   "name": "python",
   "nbconvert_exporter": "python",
   "pygments_lexer": "ipython3",
   "version": "3.13.5"
  }
 },
 "nbformat": 4,
 "nbformat_minor": 5
}
