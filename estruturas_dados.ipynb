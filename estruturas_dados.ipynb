{
 "cells": [
  {
   "cell_type": "markdown",
   "id": "84a8043b",
   "metadata": {},
   "source": [
    "##Dado estruturado - estrutura e armazena vários tipos de dados como listas e dicionários\n",
    "\n",
    "###Listas:  armazenam vários elementos de qualquer tipo em ordem"
   ]
  },
  {
   "cell_type": "code",
   "execution_count": 1,
   "id": "7174589f",
   "metadata": {},
   "outputs": [
    {
     "data": {
      "text/plain": [
       "['Fabricio Daniel', 9.5, 9, 8.0, True]"
      ]
     },
     "execution_count": 1,
     "metadata": {},
     "output_type": "execute_result"
    }
   ],
   "source": [
    "#Delimitar os valores por colchetes [] e os itens são separados por virgulas\n",
    "#Cada elemento da liista possui um índice que indica sua posição\n",
    "\n",
    "lista = ['Fabricio Daniel', 9.5, 9, 8.0, True]\n",
    "lista"
   ]
  },
  {
   "cell_type": "code",
   "execution_count": 2,
   "id": "52cd91d3",
   "metadata": {},
   "outputs": [
    {
     "data": {
      "text/plain": [
       "9"
      ]
     },
     "execution_count": 2,
     "metadata": {},
     "output_type": "execute_result"
    }
   ],
   "source": [
    "# índice       [0]          [1] [2] [3]  [4]\n",
    "lista = ['Fabricio Daniel', 9.5, 9, 8.0, True]\n",
    "lista[2]"
   ]
  },
  {
   "cell_type": "code",
   "execution_count": 6,
   "id": "d40fbf80",
   "metadata": {},
   "outputs": [
    {
     "name": "stdout",
     "output_type": "stream",
     "text": [
      "True\n",
      "Fabricio Daniel\n"
     ]
    }
   ],
   "source": [
    "#Índices negativos são iniciados do último elemento para o primeiro (no nosso exemplo -1 -> True ao -5 -> 'Fabricio Daniel')\n",
    "print(lista[-1])\n",
    "print(lista[-5])"
   ]
  },
  {
   "cell_type": "code",
   "execution_count": 7,
   "id": "4c7151d0",
   "metadata": {},
   "outputs": [
    {
     "name": "stdout",
     "output_type": "stream",
     "text": [
      "Fabricio Daniel\n",
      "9.5\n",
      "9\n",
      "8.0\n",
      "True\n"
     ]
    }
   ],
   "source": [
    "for elemento in lista:\n",
    "    print(elemento)"
   ]
  },
  {
   "cell_type": "code",
   "execution_count": 8,
   "id": "d7512af3",
   "metadata": {},
   "outputs": [
    {
     "data": {
      "text/plain": [
       "['Fabricio Daniel', 9.5, 9, 10, True]"
      ]
     },
     "execution_count": 8,
     "metadata": {},
     "output_type": "execute_result"
    }
   ],
   "source": [
    "lista[3] = 10\n",
    "lista"
   ]
  },
  {
   "cell_type": "code",
   "execution_count": 9,
   "id": "64c321fe",
   "metadata": {},
   "outputs": [
    {
     "data": {
      "text/plain": [
       "9.5"
      ]
     },
     "execution_count": 9,
     "metadata": {},
     "output_type": "execute_result"
    }
   ],
   "source": [
    "media = (lista[1] + lista[2] + lista[3])/3\n",
    "media"
   ]
  },
  {
   "cell_type": "code",
   "execution_count": 10,
   "id": "370197ab",
   "metadata": {},
   "outputs": [
    {
     "name": "stdout",
     "output_type": "stream",
     "text": [
      "h\n"
     ]
    }
   ],
   "source": [
    "palavra = 'Python'\n",
    "print(palavra[3])"
   ]
  },
  {
   "cell_type": "code",
   "execution_count": 22,
   "id": "8f7faf33",
   "metadata": {},
   "outputs": [
    {
     "data": {
      "text/plain": [
       "['Todos', 'somos', 'jovens,', 'mas', 'de', 'cabeça']"
      ]
     },
     "execution_count": 22,
     "metadata": {},
     "output_type": "execute_result"
    }
   ],
   "source": [
    "#Contudo não podemos modificar esse elemento, pois não é uma lista\n",
    "#podemos transformar essa palavra em uma lista com o método split()\n",
    "frase = 'Todos somos jovens, mas de cabeça'\n",
    "frases = frase.split()\n",
    "frases"
   ]
  },
  {
   "cell_type": "code",
   "execution_count": 23,
   "id": "c2423ae6",
   "metadata": {},
   "outputs": [
    {
     "data": {
      "text/plain": [
       "['Todos', 'somos', 'é', 'mas', 'de', 'cabeça']"
      ]
     },
     "execution_count": 23,
     "metadata": {},
     "output_type": "execute_result"
    }
   ],
   "source": [
    "frases[2] = 'é'\n",
    "frases"
   ]
  },
  {
   "cell_type": "code",
   "execution_count": 24,
   "id": "73c01273",
   "metadata": {},
   "outputs": [
    {
     "ename": "AttributeError",
     "evalue": "'list' object has no attribute 'join'",
     "output_type": "error",
     "traceback": [
      "\u001b[0;31m---------------------------------------------------------------------------\u001b[0m",
      "\u001b[0;31mAttributeError\u001b[0m                            Traceback (most recent call last)",
      "Cell \u001b[0;32mIn[24], line 1\u001b[0m\n\u001b[0;32m----> 1\u001b[0m frase_completa \u001b[38;5;241m=\u001b[39m frases\u001b[38;5;241m.\u001b[39mjoin(\u001b[38;5;124m'\u001b[39m\u001b[38;5;124m \u001b[39m\u001b[38;5;124m'\u001b[39m)\n\u001b[1;32m      2\u001b[0m frase_completa\n",
      "\u001b[0;31mAttributeError\u001b[0m: 'list' object has no attribute 'join'"
     ]
    }
   ],
   "source": [
    "frase_completa = frases.join(' ')\n",
    "frase_completa"
   ]
  },
  {
   "cell_type": "code",
   "execution_count": null,
   "id": "8611ac17",
   "metadata": {},
   "outputs": [],
   "source": []
  }
 ],
 "metadata": {
  "kernelspec": {
   "display_name": "base",
   "language": "python",
   "name": "python3"
  },
  "language_info": {
   "codemirror_mode": {
    "name": "ipython",
    "version": 3
   },
   "file_extension": ".py",
   "mimetype": "text/x-python",
   "name": "python",
   "nbconvert_exporter": "python",
   "pygments_lexer": "ipython3",
   "version": "3.13.5"
  }
 },
 "nbformat": 4,
 "nbformat_minor": 5
}
