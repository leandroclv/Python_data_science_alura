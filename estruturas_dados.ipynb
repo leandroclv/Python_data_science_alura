{
 "cells": [
  {
   "cell_type": "markdown",
   "id": "84a8043b",
   "metadata": {},
   "source": [
    "##Dado estruturado - estrutura e armazena vários tipos de dados como listas e dicionários\n",
    "\n",
    "###Listas:  armazenam vários elementos de qualquer tipo em ordem"
   ]
  },
  {
   "cell_type": "code",
   "execution_count": 2,
   "id": "7174589f",
   "metadata": {},
   "outputs": [
    {
     "data": {
      "text/plain": [
       "['Fabricio Daniel', 9.5, 9, 8.0, True]"
      ]
     },
     "execution_count": 2,
     "metadata": {},
     "output_type": "execute_result"
    }
   ],
   "source": [
    "#Delimitar os valores por colchetes [] e os itens são separados por virgulas\n",
    "#Cada elemento da liista possui um índice que indica sua posição\n",
    "\n",
    "lista = ['Fabricio Daniel', 9.5, 9, 8.0, True]\n",
    "lista"
   ]
  },
  {
   "cell_type": "code",
   "execution_count": 3,
   "id": "52cd91d3",
   "metadata": {},
   "outputs": [
    {
     "data": {
      "text/plain": [
       "9"
      ]
     },
     "execution_count": 3,
     "metadata": {},
     "output_type": "execute_result"
    }
   ],
   "source": [
    "# índice       [0]          [1] [2] [3]  [4]\n",
    "lista = ['Fabricio Daniel', 9.5, 9, 8.0, True]\n",
    "lista[2]"
   ]
  },
  {
   "cell_type": "code",
   "execution_count": 4,
   "id": "d40fbf80",
   "metadata": {},
   "outputs": [
    {
     "name": "stdout",
     "output_type": "stream",
     "text": [
      "True\n",
      "Fabricio Daniel\n"
     ]
    }
   ],
   "source": [
    "#Índices negativos são iniciados do último elemento para o primeiro (no nosso exemplo -1 -> True ao -5 -> 'Fabricio Daniel')\n",
    "print(lista[-1])\n",
    "print(lista[-5])"
   ]
  },
  {
   "cell_type": "code",
   "execution_count": 5,
   "id": "4c7151d0",
   "metadata": {},
   "outputs": [
    {
     "name": "stdout",
     "output_type": "stream",
     "text": [
      "Fabricio Daniel\n",
      "9.5\n",
      "9\n",
      "8.0\n",
      "True\n"
     ]
    }
   ],
   "source": [
    "for elemento in lista:\n",
    "    print(elemento)"
   ]
  },
  {
   "cell_type": "code",
   "execution_count": 6,
   "id": "d7512af3",
   "metadata": {},
   "outputs": [
    {
     "data": {
      "text/plain": [
       "['Fabricio Daniel', 9.5, 9, 10, True]"
      ]
     },
     "execution_count": 6,
     "metadata": {},
     "output_type": "execute_result"
    }
   ],
   "source": [
    "lista[3] = 10\n",
    "lista"
   ]
  },
  {
   "cell_type": "code",
   "execution_count": 7,
   "id": "64c321fe",
   "metadata": {},
   "outputs": [
    {
     "data": {
      "text/plain": [
       "9.5"
      ]
     },
     "execution_count": 7,
     "metadata": {},
     "output_type": "execute_result"
    }
   ],
   "source": [
    "media = (lista[1] + lista[2] + lista[3])/3\n",
    "media"
   ]
  },
  {
   "cell_type": "code",
   "execution_count": 8,
   "id": "370197ab",
   "metadata": {},
   "outputs": [
    {
     "name": "stdout",
     "output_type": "stream",
     "text": [
      "h\n"
     ]
    }
   ],
   "source": [
    "palavra = 'Python'\n",
    "print(palavra[3])"
   ]
  },
  {
   "cell_type": "code",
   "execution_count": 9,
   "id": "8f7faf33",
   "metadata": {},
   "outputs": [
    {
     "data": {
      "text/plain": [
       "['Todos', 'somos', 'jovens,', 'mas', 'de', 'cabeça']"
      ]
     },
     "execution_count": 9,
     "metadata": {},
     "output_type": "execute_result"
    }
   ],
   "source": [
    "#Contudo não podemos modificar esse elemento, pois não é uma lista\n",
    "#podemos transformar essa palavra em uma lista com o método split()\n",
    "frase = 'Todos somos jovens, mas de cabeça'\n",
    "frases = frase.split()\n",
    "frases"
   ]
  },
  {
   "cell_type": "code",
   "execution_count": 10,
   "id": "c2423ae6",
   "metadata": {},
   "outputs": [
    {
     "data": {
      "text/plain": [
       "['Todos', 'somos', 'é', 'mas', 'de', 'cabeça']"
      ]
     },
     "execution_count": 10,
     "metadata": {},
     "output_type": "execute_result"
    }
   ],
   "source": [
    "frases[2] = 'é'\n",
    "frases"
   ]
  },
  {
   "cell_type": "code",
   "execution_count": 13,
   "id": "73c01273",
   "metadata": {},
   "outputs": [
    {
     "data": {
      "text/plain": [
       "'Todos somos é mas de cabeça'"
      ]
     },
     "execution_count": 13,
     "metadata": {},
     "output_type": "execute_result"
    }
   ],
   "source": [
    "unificador = ' '\n",
    "frase_completa = unificador.join(frases)\n",
    "frase_completa"
   ]
  },
  {
   "cell_type": "code",
   "execution_count": 14,
   "id": "8611ac17",
   "metadata": {},
   "outputs": [
    {
     "data": {
      "text/plain": [
       "6"
      ]
     },
     "execution_count": 14,
     "metadata": {},
     "output_type": "execute_result"
    }
   ],
   "source": [
    "#Qauntidade de elementos len()\n",
    "len(frases)\n"
   ]
  },
  {
   "cell_type": "code",
   "execution_count": 15,
   "id": "eb7146fa",
   "metadata": {},
   "outputs": [
    {
     "data": {
      "text/plain": [
       "[9.5, 9, 10]"
      ]
     },
     "execution_count": 15,
     "metadata": {},
     "output_type": "execute_result"
    }
   ],
   "source": [
    "#Partição usndo a sintaxe lista[inicio:fim] no fim o último elemento é excludente, ou seja fim + 1 para pegar todos os elementos\n",
    "lista[1:4] "
   ]
  },
  {
   "cell_type": "code",
   "execution_count": 16,
   "id": "90ee81d7",
   "metadata": {},
   "outputs": [
    {
     "data": {
      "text/plain": [
       "['Fabricio Daniel', 9.5, 9]"
      ]
     },
     "execution_count": 16,
     "metadata": {},
     "output_type": "execute_result"
    }
   ],
   "source": [
    "lista[:3] #Do primeiro elemento até o terceiro elemento\n"
   ]
  },
  {
   "cell_type": "code",
   "execution_count": 17,
   "id": "f5e689f7",
   "metadata": {},
   "outputs": [
    {
     "data": {
      "text/plain": [
       "[10, True]"
      ]
     },
     "execution_count": 17,
     "metadata": {},
     "output_type": "execute_result"
    }
   ],
   "source": [
    "lista[3:] #Do terceiro elemento até o último"
   ]
  },
  {
   "cell_type": "code",
   "execution_count": 18,
   "id": "aa42d157",
   "metadata": {},
   "outputs": [
    {
     "data": {
      "text/plain": [
       "['Fabricio Daniel', 9.5, 9, 10, True]"
      ]
     },
     "execution_count": 18,
     "metadata": {},
     "output_type": "execute_result"
    }
   ],
   "source": [
    "lista[:] #Toda a lista"
   ]
  },
  {
   "cell_type": "code",
   "execution_count": 19,
   "id": "feb7c5ed",
   "metadata": {},
   "outputs": [
    {
     "data": {
      "text/plain": [
       "['Fabricio Daniel', 9.5, 9, 10, True, 9.5]"
      ]
     },
     "execution_count": 19,
     "metadata": {},
     "output_type": "execute_result"
    }
   ],
   "source": [
    "#append() -> Adiciona um elemento ao final da lista\n",
    "lista.append(media)\n",
    "lista "
   ]
  },
  {
   "cell_type": "code",
   "execution_count": 21,
   "id": "621a53c0",
   "metadata": {},
   "outputs": [
    {
     "data": {
      "text/plain": [
       "['Fabricio Daniel', 9.5, 9, 10, True, 9.5, 10.0, 8.0, 9.0, 10.0, 8.0, 9.0]"
      ]
     },
     "execution_count": 21,
     "metadata": {},
     "output_type": "execute_result"
    }
   ],
   "source": [
    "#extend() -> adiciona vários elementos ao final da lista\n",
    "lista.extend([10.0, 8.0, 9.0]) #Isso não seria possível ser feito com o append()\n",
    "lista"
   ]
  },
  {
   "cell_type": "code",
   "execution_count": 25,
   "id": "bd42954f",
   "metadata": {},
   "outputs": [
    {
     "data": {
      "text/plain": [
       "['Fabricio Daniel', 9.5, 9, True, 9.5, 10.0, 8.0, 9.0, 10.0, 8.0, 9.0]"
      ]
     },
     "execution_count": 25,
     "metadata": {},
     "output_type": "execute_result"
    }
   ],
   "source": [
    "lista.remove(10.0)\n",
    "lista"
   ]
  },
  {
   "cell_type": "code",
   "execution_count": 26,
   "id": "a90c1570",
   "metadata": {},
   "outputs": [
    {
     "data": {
      "text/plain": [
       "2"
      ]
     },
     "execution_count": 26,
     "metadata": {},
     "output_type": "execute_result"
    }
   ],
   "source": [
    "lista.count(10)"
   ]
  },
  {
   "cell_type": "code",
   "execution_count": 27,
   "id": "aa67a0cb",
   "metadata": {},
   "outputs": [],
   "source": [
    "raca_caes = ['Labrador retriver', 'Bulldog Francês', 'Pastor Alemão', 'Poodle']"
   ]
  },
  {
   "cell_type": "code",
   "execution_count": null,
   "id": "c774abc7",
   "metadata": {},
   "outputs": [
    {
     "data": {
      "text/plain": [
       "['Labrador retriver',\n",
       " 'Golden Retriever',\n",
       " 'Bulldog Francês',\n",
       " 'Pastor Alemão',\n",
       " 'Poodle']"
      ]
     },
     "execution_count": 28,
     "metadata": {},
     "output_type": "execute_result"
    }
   ],
   "source": [
    "#O insert() -> irá inserir um elemento em uma deterninada posição da lista. lista.insert(índice, elemento que será inserido)\n",
    "raca_caes.insert(1, 'Golden Retriever')\n",
    "raca_caes"
   ]
  },
  {
   "cell_type": "code",
   "execution_count": 30,
   "id": "3cb7dbc4",
   "metadata": {},
   "outputs": [
    {
     "data": {
      "text/plain": [
       "'Bulldog Francês'"
      ]
     },
     "execution_count": 30,
     "metadata": {},
     "output_type": "execute_result"
    }
   ],
   "source": [
    "#O poo() -> irá remover o elemento pelo índice da lista e retorna como saída na execução do método.\n",
    "raca_caes.pop(1) #lista.pop(índice do elemento que será retirado)"
   ]
  },
  {
   "cell_type": "code",
   "execution_count": 31,
   "id": "39f5aba6",
   "metadata": {},
   "outputs": [
    {
     "data": {
      "text/plain": [
       "1"
      ]
     },
     "execution_count": 31,
     "metadata": {},
     "output_type": "execute_result"
    }
   ],
   "source": [
    "#index() -> retorna o índice de um elemento específico na lista.\n",
    "raca_caes.index('Pastor Alemão')"
   ]
  },
  {
   "cell_type": "code",
   "execution_count": 32,
   "id": "808349ef",
   "metadata": {},
   "outputs": [
    {
     "data": {
      "text/plain": [
       "['Labrador retriver', 'Pastor Alemão', 'Poodle']"
      ]
     },
     "execution_count": 32,
     "metadata": {},
     "output_type": "execute_result"
    }
   ],
   "source": [
    "#sort() -> organiza os elementos da lista em ordem crescente ou decrescente.\n",
    "raca_caes.sort()\n",
    "raca_caes"
   ]
  },
  {
   "cell_type": "markdown",
   "id": "dec74f46",
   "metadata": {},
   "source": [
    "###Dicionários"
   ]
  },
  {
   "cell_type": "code",
   "execution_count": null,
   "id": "465ebe21",
   "metadata": {},
   "outputs": [],
   "source": [
    "#São um tipo de estrutura de dados que armazenam pares de chave-valor. São delimitados por {} e os pares de chave-valor separados por :\n",
    "#dicionario = {chave:valor}\n",
    "#Chave é o elemento único que identifica um valor no dicionário, enquanto o valor é o item que é armazenado para a chave."
   ]
  },
  {
   "cell_type": "code",
   "execution_count": 34,
   "id": "875112ba",
   "metadata": {},
   "outputs": [
    {
     "data": {
      "text/plain": [
       "{'chave_1': 1, 'chave_2': 2}"
      ]
     },
     "execution_count": 34,
     "metadata": {},
     "output_type": "execute_result"
    }
   ],
   "source": [
    "dicionario = {'chave_1': 1, 'chave_2': 2}\n",
    "dicionario"
   ]
  },
  {
   "cell_type": "code",
   "execution_count": 36,
   "id": "e0f25a67",
   "metadata": {},
   "outputs": [
    {
     "data": {
      "text/plain": [
       "{'matricula': 2000168933,\n",
       " 'dia_cadastro': 25,\n",
       " 'mes_cadastro': 10,\n",
       " 'turma': '2E'}"
      ]
     },
     "execution_count": 36,
     "metadata": {},
     "output_type": "execute_result"
    }
   ],
   "source": [
    "cadastro = {\n",
    "    'matricula': 2000168933,\n",
    "    'dia_cadastro': 25,\n",
    "    'mes_cadastro': 10,\n",
    "    'turma': '2E'\n",
    "}\n",
    "cadastro"
   ]
  },
  {
   "cell_type": "code",
   "execution_count": 39,
   "id": "df6745be",
   "metadata": {},
   "outputs": [
    {
     "data": {
      "text/plain": [
       "2000168933"
      ]
     },
     "execution_count": 39,
     "metadata": {},
     "output_type": "execute_result"
    }
   ],
   "source": [
    "cadastro['matricula']"
   ]
  },
  {
   "cell_type": "code",
   "execution_count": 40,
   "id": "de9d3211",
   "metadata": {},
   "outputs": [
    {
     "data": {
      "text/plain": [
       "'2E'"
      ]
     },
     "execution_count": 40,
     "metadata": {},
     "output_type": "execute_result"
    }
   ],
   "source": [
    "cadastro['turma']"
   ]
  },
  {
   "cell_type": "code",
   "execution_count": 41,
   "id": "7b9838d1",
   "metadata": {},
   "outputs": [],
   "source": [
    "cadastro['turma'] = '2G'"
   ]
  },
  {
   "cell_type": "code",
   "execution_count": 42,
   "id": "5234d973",
   "metadata": {},
   "outputs": [
    {
     "data": {
      "text/plain": [
       "{'matricula': 2000168933,\n",
       " 'dia_cadastro': 25,\n",
       " 'mes_cadastro': 10,\n",
       " 'turma': '2G'}"
      ]
     },
     "execution_count": 42,
     "metadata": {},
     "output_type": "execute_result"
    }
   ],
   "source": [
    "cadastro"
   ]
  },
  {
   "cell_type": "code",
   "execution_count": 43,
   "id": "326a77a3",
   "metadata": {},
   "outputs": [
    {
     "data": {
      "text/plain": [
       "{'matricula': 2000168933,\n",
       " 'dia_cadastro': 25,\n",
       " 'mes_cadastro': 10,\n",
       " 'turma': '2G',\n",
       " 'modalidade': 'EAD'}"
      ]
     },
     "execution_count": 43,
     "metadata": {},
     "output_type": "execute_result"
    }
   ],
   "source": [
    "cadastro['modalidade'] = 'EAD'\n",
    "cadastro"
   ]
  },
  {
   "cell_type": "code",
   "execution_count": 44,
   "id": "d078e317",
   "metadata": {},
   "outputs": [
    {
     "data": {
      "text/plain": [
       "'EAD'"
      ]
     },
     "execution_count": 44,
     "metadata": {},
     "output_type": "execute_result"
    }
   ],
   "source": [
    "#pop() -> remove um item do dicionário e depois o retorna\n",
    "cadastro.pop('modalidade')"
   ]
  },
  {
   "cell_type": "code",
   "execution_count": 46,
   "id": "f3f6b3e7",
   "metadata": {},
   "outputs": [
    {
     "data": {
      "text/plain": [
       "{'matricula': 2000168933,\n",
       " 'dia_cadastro': 25,\n",
       " 'mes_cadastro': 10,\n",
       " 'turma': '2G'}"
      ]
     },
     "execution_count": 46,
     "metadata": {},
     "output_type": "execute_result"
    }
   ],
   "source": [
    "cadastro"
   ]
  },
  {
   "cell_type": "code",
   "execution_count": 48,
   "id": "f952c904",
   "metadata": {},
   "outputs": [
    {
     "data": {
      "text/plain": [
       "dict_items([('matricula', 2000168933), ('dia_cadastro', 25), ('mes_cadastro', 10), ('turma', '2G')])"
      ]
     },
     "execution_count": 48,
     "metadata": {},
     "output_type": "execute_result"
    }
   ],
   "source": [
    "#Métodos de consulta -> permitem a visualização dos elementos do dicionário\n",
    "#items() -> retorna uma lista de pares chave-vaalor do dicionário\n",
    "cadastro.items()"
   ]
  },
  {
   "cell_type": "code",
   "execution_count": 50,
   "id": "649d2d27",
   "metadata": {},
   "outputs": [
    {
     "data": {
      "text/plain": [
       "dict_keys(['matricula', 'dia_cadastro', 'mes_cadastro', 'turma'])"
      ]
     },
     "execution_count": 50,
     "metadata": {},
     "output_type": "execute_result"
    }
   ],
   "source": [
    "#keys() -> retorna uma lista das chaves do dicionário\n",
    "cadastro.keys()"
   ]
  },
  {
   "cell_type": "code",
   "execution_count": 51,
   "id": "a25b1a30",
   "metadata": {},
   "outputs": [
    {
     "data": {
      "text/plain": [
       "dict_values([2000168933, 25, 10, '2G'])"
      ]
     },
     "execution_count": 51,
     "metadata": {},
     "output_type": "execute_result"
    }
   ],
   "source": [
    "#values() -> retorna uma lista dos valores do dicionário\n",
    "cadastro.values()"
   ]
  },
  {
   "cell_type": "code",
   "execution_count": 52,
   "id": "0ee593ca",
   "metadata": {},
   "outputs": [
    {
     "name": "stdout",
     "output_type": "stream",
     "text": [
      "2000168933\n",
      "25\n",
      "10\n",
      "2G\n"
     ]
    }
   ],
   "source": [
    "for chaves in cadastro.keys():\n",
    "    print(cadastro[chaves])"
   ]
  },
  {
   "cell_type": "code",
   "execution_count": 53,
   "id": "fc436ed9",
   "metadata": {},
   "outputs": [
    {
     "name": "stdout",
     "output_type": "stream",
     "text": [
      "2000168933\n",
      "25\n",
      "10\n",
      "2G\n"
     ]
    }
   ],
   "source": [
    "for valores in cadastro.values():\n",
    "    print(valores)"
   ]
  },
  {
   "cell_type": "code",
   "execution_count": 54,
   "id": "53bbf940",
   "metadata": {},
   "outputs": [
    {
     "name": "stdout",
     "output_type": "stream",
     "text": [
      "matricula 2000168933\n",
      "dia_cadastro 25\n",
      "mes_cadastro 10\n",
      "turma 2G\n"
     ]
    }
   ],
   "source": [
    "for chaves, valores in cadastro.items():\n",
    "    print(chaves, valores)"
   ]
  },
  {
   "cell_type": "code",
   "execution_count": 55,
   "id": "93271efa",
   "metadata": {},
   "outputs": [],
   "source": [
    "loja = {'nomes': ['televisão', 'celular', 'notebook', 'geladeira', 'fogão'],\n",
    "        'precos': [2000, 1500, 3500, 4000, 1500]}"
   ]
  },
  {
   "cell_type": "code",
   "execution_count": 56,
   "id": "d30269a8",
   "metadata": {},
   "outputs": [
    {
     "name": "stdout",
     "output_type": "stream",
     "text": [
      "chave: nomes\\elementos:\n",
      "televisão\n",
      "celular\n",
      "notebook\n",
      "geladeira\n",
      "fogão\n",
      "chave: precos\\elementos:\n",
      "2000\n",
      "1500\n",
      "3500\n",
      "4000\n",
      "1500\n"
     ]
    }
   ],
   "source": [
    "for chave, elementos in loja.items():\n",
    "    print(f'chave: {chave}\\elementos:')\n",
    "    for dado in elementos:\n",
    "        print(dado)"
   ]
  },
  {
   "cell_type": "code",
   "execution_count": 57,
   "id": "5db35deb",
   "metadata": {},
   "outputs": [
    {
     "data": {
      "text/plain": [
       "700.0"
      ]
     },
     "execution_count": 57,
     "metadata": {},
     "output_type": "execute_result"
    }
   ],
   "source": [
    "#sum() -> permite somar os elementos de uma sequência ou estrutura de dados\n",
    "precos = [100.0, 400.0, 200.0]\n",
    "soma = sum(precos)\n",
    "soma"
   ]
  },
  {
   "cell_type": "code",
   "execution_count": null,
   "id": "2519d5c0",
   "metadata": {},
   "outputs": [],
   "source": []
  }
 ],
 "metadata": {
  "kernelspec": {
   "display_name": "base",
   "language": "python",
   "name": "python3"
  },
  "language_info": {
   "codemirror_mode": {
    "name": "ipython",
    "version": 3
   },
   "file_extension": ".py",
   "mimetype": "text/x-python",
   "name": "python",
   "nbconvert_exporter": "python",
   "pygments_lexer": "ipython3",
   "version": "3.13.5"
  }
 },
 "nbformat": 4,
 "nbformat_minor": 5
}
