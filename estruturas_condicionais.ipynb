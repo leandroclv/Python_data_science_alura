{
 "cells": [
  {
   "cell_type": "markdown",
   "id": "a1f1224d",
   "metadata": {},
   "source": [
    "###Estruturas condicinoais"
   ]
  },
  {
   "cell_type": "code",
   "execution_count": 1,
   "id": "28b67f61",
   "metadata": {},
   "outputs": [],
   "source": [
    "#Se condição:\n",
    "    #instruções caso a condição seja verdadeira\n",
    "#Senão:\n",
    "    #instruções caso a condição seja falsa"
   ]
  },
  {
   "cell_type": "code",
   "execution_count": 2,
   "id": "45fe4889",
   "metadata": {},
   "outputs": [],
   "source": [
    "#Se media >=6.0:\n",
    "    #instrução: aluno aprovado(a)\n",
    "#Senão:\n",
    "    #instrução: aluno reprovado(a)\n",
    "    "
   ]
  },
  {
   "cell_type": "code",
   "execution_count": 3,
   "id": "64af6c56",
   "metadata": {},
   "outputs": [],
   "source": [
    "#Sintaxe\n",
    "#if condição:\n",
    "    #instruções caso a condição seja verdadeira\n",
    "#else:\n",
    "    #instruções caso a condição seja falsa"
   ]
  },
  {
   "cell_type": "code",
   "execution_count": 4,
   "id": "ed2a88fa",
   "metadata": {},
   "outputs": [
    {
     "name": "stdout",
     "output_type": "stream",
     "text": [
      "condição verdadeira\n"
     ]
    }
   ],
   "source": [
    "if 2 < 7:\n",
    "    print('condição verdadeira')"
   ]
  },
  {
   "cell_type": "code",
   "execution_count": 5,
   "id": "ff3bc4a8",
   "metadata": {},
   "outputs": [
    {
     "name": "stdout",
     "output_type": "stream",
     "text": [
      "fora do bloco\n"
     ]
    }
   ],
   "source": [
    "if 2 > 7:\n",
    "    print('condição verdadeira')\n",
    "    \n",
    "print('fora do bloco')"
   ]
  },
  {
   "cell_type": "code",
   "execution_count": 8,
   "id": "81145afa",
   "metadata": {},
   "outputs": [
    {
     "name": "stdout",
     "output_type": "stream",
     "text": [
      "Reporvado(a)\n"
     ]
    }
   ],
   "source": [
    "media = float(input('Digite a sua média: '))\n",
    "if media >= 6.0:\n",
    "    print('Aprovado(a)')\n",
    "else:\n",
    "    print('Reporvado(a)')"
   ]
  },
  {
   "cell_type": "code",
   "execution_count": 11,
   "id": "801ca997",
   "metadata": {},
   "outputs": [
    {
     "name": "stdout",
     "output_type": "stream",
     "text": [
      "Aprovado(a)\n"
     ]
    }
   ],
   "source": [
    "media = float(input('Digite a sua média: '))\n",
    "if media >= 6:\n",
    "    print('Aprovado(a)')\n",
    "elif 6.0 > media >= 4.0:\n",
    "    print('Recuperação')\n",
    "else:\n",
    "    print('Reprovado(a)')"
   ]
  },
  {
   "cell_type": "markdown",
   "id": "889622b9",
   "metadata": {},
   "source": [
    "##Operadores Lógicos"
   ]
  },
  {
   "cell_type": "code",
   "execution_count": null,
   "id": "ea964105",
   "metadata": {},
   "outputs": [],
   "source": [
    "#Símbolos ou palavras-chave que são usados para combinar operandos em uma única expressão (and, or e not)\n",
    "#and vai ser verdadeira só se as duas condições forem verdadeiras\n",
    "#or vai ser verdadeira se pelo menos uma das condições for verdadeira\n",
    "#not inverte "
   ]
  },
  {
   "cell_type": "code",
   "execution_count": 14,
   "id": "559dc455",
   "metadata": {},
   "outputs": [],
   "source": [
    "t1 = t2 = True\n",
    "f1 = f2 = False"
   ]
  },
  {
   "cell_type": "code",
   "execution_count": 15,
   "id": "e30e7c9c",
   "metadata": {},
   "outputs": [
    {
     "name": "stdout",
     "output_type": "stream",
     "text": [
      "Expressão verdadeira\n"
     ]
    }
   ],
   "source": [
    "if t1 and t2:\n",
    "    print('Expressão verdadeira')\n",
    "else:\n",
    "    print('Expressão falsa')"
   ]
  },
  {
   "cell_type": "code",
   "execution_count": 16,
   "id": "0cb411cb",
   "metadata": {},
   "outputs": [
    {
     "name": "stdout",
     "output_type": "stream",
     "text": [
      "Expressão falsa\n"
     ]
    }
   ],
   "source": [
    "if t1 and f1:\n",
    "    print('Expressão verdadeira')\n",
    "else:\n",
    "    print('Expressão falsa')"
   ]
  },
  {
   "cell_type": "code",
   "execution_count": 17,
   "id": "050d8454",
   "metadata": {},
   "outputs": [
    {
     "name": "stdout",
     "output_type": "stream",
     "text": [
      "Expressão verdadeira\n"
     ]
    }
   ],
   "source": [
    "if t1 or f2:\n",
    "    print('Expressão verdadeira')\n",
    "else:\n",
    "    print('Expressão falsa')"
   ]
  },
  {
   "cell_type": "code",
   "execution_count": 18,
   "id": "1b67bb94",
   "metadata": {},
   "outputs": [
    {
     "name": "stdout",
     "output_type": "stream",
     "text": [
      "Expressão falsa\n"
     ]
    }
   ],
   "source": [
    "if f1 or f2:\n",
    "    print('Expressão verdadeira')\n",
    "else:\n",
    "    print('Expressão falsa')"
   ]
  },
  {
   "cell_type": "code",
   "execution_count": 19,
   "id": "faa65e1b",
   "metadata": {},
   "outputs": [
    {
     "name": "stdout",
     "output_type": "stream",
     "text": [
      "Expressão falsa\n"
     ]
    }
   ],
   "source": [
    "if not t1:\n",
    "    print('Expressão verdadeira')\n",
    "else:\n",
    "    print('Expressão falsa')"
   ]
  },
  {
   "cell_type": "code",
   "execution_count": 20,
   "id": "dc7b291f",
   "metadata": {},
   "outputs": [
    {
     "name": "stdout",
     "output_type": "stream",
     "text": [
      "Expressão verdadeira\n"
     ]
    }
   ],
   "source": [
    "if not f1:\n",
    "    print('Expressão verdadeira')\n",
    "else:\n",
    "    print('Expressão falsa')"
   ]
  },
  {
   "cell_type": "code",
   "execution_count": 25,
   "id": "264d8dfe",
   "metadata": {},
   "outputs": [],
   "source": [
    "#in para verificar se um elemento está contido em outro\n",
    "lista = ['José da silva' , 'Maria Oliveira', 'Pedro Martins', 'Ana Souza', 'Carlos Rodrigues', 'Marcelo Nogueira' ]"
   ]
  },
  {
   "cell_type": "code",
   "execution_count": 26,
   "id": "b7f9b70a",
   "metadata": {},
   "outputs": [],
   "source": [
    "nome_1 = 'Mariana Rodrigues'\n",
    "nome_2 = 'Marcelo Nogueira'"
   ]
  },
  {
   "cell_type": "code",
   "execution_count": 27,
   "id": "6391e5df",
   "metadata": {},
   "outputs": [
    {
     "name": "stdout",
     "output_type": "stream",
     "text": [
      "Mariana Rodrigues não está na lista\n"
     ]
    }
   ],
   "source": [
    "if nome_1 in lista:\n",
    "    print(f'{nome_1} está na lista')\n",
    "else:\n",
    "    print(f'{nome_1} não está na lista')"
   ]
  },
  {
   "cell_type": "code",
   "execution_count": 28,
   "id": "25cc5df7",
   "metadata": {},
   "outputs": [
    {
     "name": "stdout",
     "output_type": "stream",
     "text": [
      "Marcelo Nogueira está na lista\n"
     ]
    }
   ],
   "source": [
    "if nome_2 in lista:\n",
    "    print(f'{nome_2} está na lista')\n",
    "else:\n",
    "    print(f'{nome_2} não está na lista')"
   ]
  },
  {
   "cell_type": "code",
   "execution_count": null,
   "id": "fc46e712",
   "metadata": {},
   "outputs": [],
   "source": []
  }
 ],
 "metadata": {
  "kernelspec": {
   "display_name": "base",
   "language": "python",
   "name": "python3"
  },
  "language_info": {
   "codemirror_mode": {
    "name": "ipython",
    "version": 3
   },
   "file_extension": ".py",
   "mimetype": "text/x-python",
   "name": "python",
   "nbconvert_exporter": "python",
   "pygments_lexer": "ipython3",
   "version": "3.13.5"
  }
 },
 "nbformat": 4,
 "nbformat_minor": 5
}
