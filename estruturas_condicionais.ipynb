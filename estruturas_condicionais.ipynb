{
 "cells": [
  {
   "cell_type": "markdown",
   "id": "a1f1224d",
   "metadata": {},
   "source": [
    "###Estruturas condicinoais"
   ]
  },
  {
   "cell_type": "code",
   "execution_count": 3,
   "id": "28b67f61",
   "metadata": {},
   "outputs": [],
   "source": [
    "#Se condição:\n",
    "    #instruções caso a condição seja verdadeira\n",
    "#Senão:\n",
    "    #instruções caso a condição seja falsa"
   ]
  },
  {
   "cell_type": "code",
   "execution_count": 4,
   "id": "45fe4889",
   "metadata": {},
   "outputs": [],
   "source": [
    "#Se media >=6.0:\n",
    "    #instrução: aluno aprovado(a)\n",
    "#Senão:\n",
    "    #instrução: aluno reprovado(a)\n",
    "    "
   ]
  },
  {
   "cell_type": "code",
   "execution_count": null,
   "id": "64af6c56",
   "metadata": {},
   "outputs": [],
   "source": [
    "#Sintaxe\n",
    "#if condição:\n",
    "    #instruções caso a condição seja verdadeira\n",
    "#else:\n",
    "    #instruções caso a condição seja falsa"
   ]
  },
  {
   "cell_type": "code",
   "execution_count": 6,
   "id": "ed2a88fa",
   "metadata": {},
   "outputs": [
    {
     "name": "stdout",
     "output_type": "stream",
     "text": [
      "condição verdadeira\n"
     ]
    }
   ],
   "source": [
    "if 2 < 7:\n",
    "    print('condição verdadeira')"
   ]
  },
  {
   "cell_type": "code",
   "execution_count": 8,
   "id": "ff3bc4a8",
   "metadata": {},
   "outputs": [
    {
     "name": "stdout",
     "output_type": "stream",
     "text": [
      "fora do bloco\n"
     ]
    }
   ],
   "source": [
    "if 2 > 7:\n",
    "    print('condição verdadeira')\n",
    "    \n",
    "print('fora do bloco')"
   ]
  },
  {
   "cell_type": "code",
   "execution_count": null,
   "id": "81145afa",
   "metadata": {},
   "outputs": [],
   "source": []
  }
 ],
 "metadata": {
  "kernelspec": {
   "display_name": "base",
   "language": "python",
   "name": "python3"
  },
  "language_info": {
   "codemirror_mode": {
    "name": "ipython",
    "version": 3
   },
   "file_extension": ".py",
   "mimetype": "text/x-python",
   "name": "python",
   "nbconvert_exporter": "python",
   "pygments_lexer": "ipython3",
   "version": "3.13.5"
  }
 },
 "nbformat": 4,
 "nbformat_minor": 5
}
